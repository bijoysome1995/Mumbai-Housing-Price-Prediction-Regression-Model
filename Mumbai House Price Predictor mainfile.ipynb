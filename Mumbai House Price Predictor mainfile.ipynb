{
 "cells": [
  {
   "cell_type": "code",
   "execution_count": 4,
   "id": "e7213e29",
   "metadata": {},
   "outputs": [],
   "source": [
    "#Importing necessary libraries.\n",
    "import numpy as np\n",
    "import pandas as pd\n",
    "import matplotlib.pyplot as plt\n",
    "%matplotlib inline\n",
    "import seaborn as sns"
   ]
  },
  {
   "cell_type": "code",
   "execution_count": 5,
   "id": "26bfedce",
   "metadata": {},
   "outputs": [],
   "source": [
    "# Loading the dataset and storing it into the dataframe df.\n",
    "df = pd.read_csv('C:/Users/bijoy/OneDrive/Documents/Praxis DS/Own project/Mumbai house price prediction/mumbai.csv/mumbai_main.csv')\n",
    "pd.options.display.max_columns = 30"
   ]
  },
  {
   "cell_type": "markdown",
   "id": "87ff9392",
   "metadata": {},
   "source": [
    "# Exploratory Data Analysis and Cleaning the Data.¶"
   ]
  },
  {
   "cell_type": "code",
   "execution_count": 6,
   "id": "5637c4a7",
   "metadata": {},
   "outputs": [
    {
     "name": "stdout",
     "output_type": "stream",
     "text": [
      "<class 'pandas.core.frame.DataFrame'>\n",
      "RangeIndex: 6255 entries, 0 to 6254\n",
      "Data columns (total 17 columns):\n",
      " #   Column            Non-Null Count  Dtype  \n",
      "---  ------            --------------  -----  \n",
      " 0   price             6255 non-null   float64\n",
      " 1   Address           6255 non-null   object \n",
      " 2   area              6255 non-null   float64\n",
      " 3   latitude          6255 non-null   float64\n",
      " 4   longitude         6255 non-null   float64\n",
      " 5   Bedrooms          6255 non-null   float64\n",
      " 6   Bathrooms         6255 non-null   float64\n",
      " 7   Balcony           2376 non-null   float64\n",
      " 8   Status            5774 non-null   object \n",
      " 9   neworold          6255 non-null   object \n",
      " 10  parking           2129 non-null   float64\n",
      " 11  Furnished_status  3600 non-null   object \n",
      " 12  Lift              1678 non-null   float64\n",
      " 13  Landmarks         2617 non-null   object \n",
      " 14  type_of_building  6255 non-null   object \n",
      " 15  desc              6255 non-null   object \n",
      " 16  Price_sqft        6255 non-null   float64\n",
      "dtypes: float64(10), object(7)\n",
      "memory usage: 830.9+ KB\n"
     ]
    }
   ],
   "source": [
    "# Checking Info\n",
    "df.info()"
   ]
  },
  {
   "cell_type": "code",
   "execution_count": 7,
   "id": "7302a980",
   "metadata": {},
   "outputs": [
    {
     "data": {
      "text/html": [
       "<div>\n",
       "<style scoped>\n",
       "    .dataframe tbody tr th:only-of-type {\n",
       "        vertical-align: middle;\n",
       "    }\n",
       "\n",
       "    .dataframe tbody tr th {\n",
       "        vertical-align: top;\n",
       "    }\n",
       "\n",
       "    .dataframe thead th {\n",
       "        text-align: right;\n",
       "    }\n",
       "</style>\n",
       "<table border=\"1\" class=\"dataframe\">\n",
       "  <thead>\n",
       "    <tr style=\"text-align: right;\">\n",
       "      <th></th>\n",
       "      <th>price</th>\n",
       "      <th>Address</th>\n",
       "      <th>area</th>\n",
       "      <th>latitude</th>\n",
       "      <th>longitude</th>\n",
       "      <th>Bedrooms</th>\n",
       "      <th>Bathrooms</th>\n",
       "      <th>Balcony</th>\n",
       "      <th>Status</th>\n",
       "      <th>neworold</th>\n",
       "      <th>parking</th>\n",
       "      <th>Furnished_status</th>\n",
       "      <th>Lift</th>\n",
       "      <th>Landmarks</th>\n",
       "      <th>type_of_building</th>\n",
       "      <th>desc</th>\n",
       "      <th>Price_sqft</th>\n",
       "    </tr>\n",
       "  </thead>\n",
       "  <tbody>\n",
       "    <tr>\n",
       "      <th>0</th>\n",
       "      <td>22400000.0</td>\n",
       "      <td>Chembur, Mumbai - Harbour Line, Maharashtra</td>\n",
       "      <td>629.0</td>\n",
       "      <td>19.032800</td>\n",
       "      <td>72.896357</td>\n",
       "      <td>2.0</td>\n",
       "      <td>2.0</td>\n",
       "      <td>NaN</td>\n",
       "      <td>Under Construction</td>\n",
       "      <td>New Property</td>\n",
       "      <td>NaN</td>\n",
       "      <td>NaN</td>\n",
       "      <td>2.0</td>\n",
       "      <td>NaN</td>\n",
       "      <td>Flat</td>\n",
       "      <td>\\n\\n\\n                                Right fr...</td>\n",
       "      <td>35612.082671</td>\n",
       "    </tr>\n",
       "    <tr>\n",
       "      <th>1</th>\n",
       "      <td>35000000.0</td>\n",
       "      <td>Chembur, Mumbai - Harbour Line, Maharashtra</td>\n",
       "      <td>974.0</td>\n",
       "      <td>19.032800</td>\n",
       "      <td>72.896357</td>\n",
       "      <td>3.0</td>\n",
       "      <td>2.0</td>\n",
       "      <td>NaN</td>\n",
       "      <td>Under Construction</td>\n",
       "      <td>New Property</td>\n",
       "      <td>NaN</td>\n",
       "      <td>NaN</td>\n",
       "      <td>2.0</td>\n",
       "      <td>NaN</td>\n",
       "      <td>Flat</td>\n",
       "      <td>\\n\\n\\n                                Right fr...</td>\n",
       "      <td>35934.291581</td>\n",
       "    </tr>\n",
       "    <tr>\n",
       "      <th>2</th>\n",
       "      <td>31700000.0</td>\n",
       "      <td>Ghatkopar East, Mumbai - Central Line, Maharas...</td>\n",
       "      <td>968.0</td>\n",
       "      <td>19.085600</td>\n",
       "      <td>72.909277</td>\n",
       "      <td>3.0</td>\n",
       "      <td>3.0</td>\n",
       "      <td>NaN</td>\n",
       "      <td>Under Construction</td>\n",
       "      <td>New Property</td>\n",
       "      <td>1.0</td>\n",
       "      <td>NaN</td>\n",
       "      <td>2.0</td>\n",
       "      <td>NaN</td>\n",
       "      <td>Flat</td>\n",
       "      <td>\\n                    \\n                    \\n...</td>\n",
       "      <td>32747.933884</td>\n",
       "    </tr>\n",
       "    <tr>\n",
       "      <th>3</th>\n",
       "      <td>18700000.0</td>\n",
       "      <td>Plot Number 283, Road Number 3, Jawahar Nagar,...</td>\n",
       "      <td>629.0</td>\n",
       "      <td>19.155756</td>\n",
       "      <td>72.846862</td>\n",
       "      <td>2.0</td>\n",
       "      <td>2.0</td>\n",
       "      <td>2.0</td>\n",
       "      <td>Ready to Move</td>\n",
       "      <td>New Property</td>\n",
       "      <td>1.0</td>\n",
       "      <td>NaN</td>\n",
       "      <td>3.0</td>\n",
       "      <td>Laxmi Callista</td>\n",
       "      <td>Flat</td>\n",
       "      <td>\\n\\n\\n                                Welcome ...</td>\n",
       "      <td>29729.729730</td>\n",
       "    </tr>\n",
       "    <tr>\n",
       "      <th>4</th>\n",
       "      <td>13500000.0</td>\n",
       "      <td>malad east, Malad East, Mumbai - North Mumbai,...</td>\n",
       "      <td>1090.0</td>\n",
       "      <td>19.177555</td>\n",
       "      <td>72.849887</td>\n",
       "      <td>2.0</td>\n",
       "      <td>2.0</td>\n",
       "      <td>NaN</td>\n",
       "      <td>NaN</td>\n",
       "      <td>New Property</td>\n",
       "      <td>1.0</td>\n",
       "      <td>Unfurnished</td>\n",
       "      <td>2.0</td>\n",
       "      <td>near uper govind nagar</td>\n",
       "      <td>Flat</td>\n",
       "      <td>\\n                    \\n                    \\n...</td>\n",
       "      <td>12385.321101</td>\n",
       "    </tr>\n",
       "  </tbody>\n",
       "</table>\n",
       "</div>"
      ],
      "text/plain": [
       "        price                                            Address    area  \\\n",
       "0  22400000.0        Chembur, Mumbai - Harbour Line, Maharashtra   629.0   \n",
       "1  35000000.0        Chembur, Mumbai - Harbour Line, Maharashtra   974.0   \n",
       "2  31700000.0  Ghatkopar East, Mumbai - Central Line, Maharas...   968.0   \n",
       "3  18700000.0  Plot Number 283, Road Number 3, Jawahar Nagar,...   629.0   \n",
       "4  13500000.0  malad east, Malad East, Mumbai - North Mumbai,...  1090.0   \n",
       "\n",
       "    latitude  longitude  Bedrooms  Bathrooms  Balcony              Status  \\\n",
       "0  19.032800  72.896357       2.0        2.0      NaN  Under Construction   \n",
       "1  19.032800  72.896357       3.0        2.0      NaN  Under Construction   \n",
       "2  19.085600  72.909277       3.0        3.0      NaN  Under Construction   \n",
       "3  19.155756  72.846862       2.0        2.0      2.0       Ready to Move   \n",
       "4  19.177555  72.849887       2.0        2.0      NaN                 NaN   \n",
       "\n",
       "       neworold  parking Furnished_status  Lift               Landmarks  \\\n",
       "0  New Property      NaN              NaN   2.0                     NaN   \n",
       "1  New Property      NaN              NaN   2.0                     NaN   \n",
       "2  New Property      1.0              NaN   2.0                     NaN   \n",
       "3  New Property      1.0              NaN   3.0          Laxmi Callista   \n",
       "4  New Property      1.0      Unfurnished   2.0  near uper govind nagar   \n",
       "\n",
       "  type_of_building                                               desc  \\\n",
       "0             Flat  \\n\\n\\n                                Right fr...   \n",
       "1             Flat  \\n\\n\\n                                Right fr...   \n",
       "2             Flat  \\n                    \\n                    \\n...   \n",
       "3             Flat  \\n\\n\\n                                Welcome ...   \n",
       "4             Flat  \\n                    \\n                    \\n...   \n",
       "\n",
       "     Price_sqft  \n",
       "0  35612.082671  \n",
       "1  35934.291581  \n",
       "2  32747.933884  \n",
       "3  29729.729730  \n",
       "4  12385.321101  "
      ]
     },
     "execution_count": 7,
     "metadata": {},
     "output_type": "execute_result"
    }
   ],
   "source": [
    "# Checking the head of the dataframe.\n",
    "df.head()"
   ]
  },
  {
   "cell_type": "code",
   "execution_count": 8,
   "id": "ccf61338",
   "metadata": {},
   "outputs": [
    {
     "data": {
      "text/plain": [
       "Ready to Move         5771\n",
       "Under Construction       3\n",
       "Name: Status, dtype: int64"
      ]
     },
     "execution_count": 8,
     "metadata": {},
     "output_type": "execute_result"
    }
   ],
   "source": [
    "df.Status.value_counts()"
   ]
  },
  {
   "cell_type": "code",
   "execution_count": 9,
   "id": "d941993d",
   "metadata": {},
   "outputs": [
    {
     "data": {
      "text/plain": [
       "Ready to Move         0.99948\n",
       "Under Construction    0.00052\n",
       "Name: Status, dtype: float64"
      ]
     },
     "execution_count": 9,
     "metadata": {},
     "output_type": "execute_result"
    }
   ],
   "source": [
    "df.Status.value_counts(normalize=True)"
   ]
  },
  {
   "cell_type": "code",
   "execution_count": 10,
   "id": "7ee63490",
   "metadata": {},
   "outputs": [
    {
     "data": {
      "text/plain": [
       "Resale          5515\n",
       "New Property     740\n",
       "Name: neworold, dtype: int64"
      ]
     },
     "execution_count": 10,
     "metadata": {},
     "output_type": "execute_result"
    }
   ],
   "source": [
    "df.neworold.value_counts()"
   ]
  },
  {
   "cell_type": "code",
   "execution_count": 11,
   "id": "34181984",
   "metadata": {},
   "outputs": [
    {
     "data": {
      "text/plain": [
       "Flat                5828\n",
       "Individual House     427\n",
       "Name: type_of_building, dtype: int64"
      ]
     },
     "execution_count": 11,
     "metadata": {},
     "output_type": "execute_result"
    }
   ],
   "source": [
    "df.type_of_building.value_counts()"
   ]
  },
  {
   "cell_type": "code",
   "execution_count": 12,
   "id": "316ec0d6",
   "metadata": {},
   "outputs": [
    {
     "data": {
      "text/plain": [
       "(6255, 17)"
      ]
     },
     "execution_count": 12,
     "metadata": {},
     "output_type": "execute_result"
    }
   ],
   "source": [
    "#Initial Shape of the DataFrame.\n",
    "df.shape"
   ]
  },
  {
   "cell_type": "code",
   "execution_count": 13,
   "id": "70597866",
   "metadata": {},
   "outputs": [
    {
     "data": {
      "text/plain": [
       "Index(['price', 'Address', 'area', 'latitude', 'longitude', 'Bedrooms',\n",
       "       'Bathrooms', 'Balcony', 'Status', 'neworold', 'parking',\n",
       "       'Furnished_status', 'Lift', 'Landmarks', 'type_of_building', 'desc',\n",
       "       'Price_sqft'],\n",
       "      dtype='object')"
      ]
     },
     "execution_count": 13,
     "metadata": {},
     "output_type": "execute_result"
    }
   ],
   "source": [
    "# Displaying the column names for the dataframe.\n",
    "df.columns"
   ]
  },
  {
   "cell_type": "code",
   "execution_count": 14,
   "id": "e9d22578",
   "metadata": {},
   "outputs": [
    {
     "data": {
      "text/plain": [
       "count    6.255000e+03\n",
       "mean     2.684187e+07\n",
       "std      2.788831e+07\n",
       "min      1.500000e+06\n",
       "25%      1.300000e+07\n",
       "50%      1.900000e+07\n",
       "75%      3.000000e+07\n",
       "max      3.600000e+08\n",
       "Name: price, dtype: float64"
      ]
     },
     "execution_count": 14,
     "metadata": {},
     "output_type": "execute_result"
    }
   ],
   "source": [
    "# Quick data description.\n",
    "df['price'].describe()"
   ]
  },
  {
   "cell_type": "code",
   "execution_count": 15,
   "id": "4379260b",
   "metadata": {},
   "outputs": [
    {
     "data": {
      "text/plain": [
       "price                  0\n",
       "Address                0\n",
       "area                   0\n",
       "latitude               0\n",
       "longitude              0\n",
       "Bedrooms               0\n",
       "Bathrooms              0\n",
       "Balcony             3879\n",
       "Status               481\n",
       "neworold               0\n",
       "parking             4126\n",
       "Furnished_status    2655\n",
       "Lift                4577\n",
       "Landmarks           3638\n",
       "type_of_building       0\n",
       "desc                   0\n",
       "Price_sqft             0\n",
       "dtype: int64"
      ]
     },
     "execution_count": 15,
     "metadata": {},
     "output_type": "execute_result"
    }
   ],
   "source": [
    "# Looking at number of null values.\n",
    "df.isnull().sum()"
   ]
  },
  {
   "cell_type": "code",
   "execution_count": 16,
   "id": "04c123b3",
   "metadata": {},
   "outputs": [
    {
     "data": {
      "text/html": [
       "<div>\n",
       "<style scoped>\n",
       "    .dataframe tbody tr th:only-of-type {\n",
       "        vertical-align: middle;\n",
       "    }\n",
       "\n",
       "    .dataframe tbody tr th {\n",
       "        vertical-align: top;\n",
       "    }\n",
       "\n",
       "    .dataframe thead th {\n",
       "        text-align: right;\n",
       "    }\n",
       "</style>\n",
       "<table border=\"1\" class=\"dataframe\">\n",
       "  <thead>\n",
       "    <tr style=\"text-align: right;\">\n",
       "      <th></th>\n",
       "      <th>price</th>\n",
       "      <th>Address</th>\n",
       "      <th>area</th>\n",
       "      <th>Bedrooms</th>\n",
       "      <th>Bathrooms</th>\n",
       "      <th>neworold</th>\n",
       "      <th>type_of_building</th>\n",
       "      <th>Price_sqft</th>\n",
       "    </tr>\n",
       "  </thead>\n",
       "  <tbody>\n",
       "    <tr>\n",
       "      <th>0</th>\n",
       "      <td>22400000.0</td>\n",
       "      <td>Chembur, Mumbai - Harbour Line, Maharashtra</td>\n",
       "      <td>629.0</td>\n",
       "      <td>2.0</td>\n",
       "      <td>2.0</td>\n",
       "      <td>New Property</td>\n",
       "      <td>Flat</td>\n",
       "      <td>35612.082671</td>\n",
       "    </tr>\n",
       "    <tr>\n",
       "      <th>1</th>\n",
       "      <td>35000000.0</td>\n",
       "      <td>Chembur, Mumbai - Harbour Line, Maharashtra</td>\n",
       "      <td>974.0</td>\n",
       "      <td>3.0</td>\n",
       "      <td>2.0</td>\n",
       "      <td>New Property</td>\n",
       "      <td>Flat</td>\n",
       "      <td>35934.291581</td>\n",
       "    </tr>\n",
       "    <tr>\n",
       "      <th>2</th>\n",
       "      <td>31700000.0</td>\n",
       "      <td>Ghatkopar East, Mumbai - Central Line, Maharas...</td>\n",
       "      <td>968.0</td>\n",
       "      <td>3.0</td>\n",
       "      <td>3.0</td>\n",
       "      <td>New Property</td>\n",
       "      <td>Flat</td>\n",
       "      <td>32747.933884</td>\n",
       "    </tr>\n",
       "    <tr>\n",
       "      <th>3</th>\n",
       "      <td>18700000.0</td>\n",
       "      <td>Plot Number 283, Road Number 3, Jawahar Nagar,...</td>\n",
       "      <td>629.0</td>\n",
       "      <td>2.0</td>\n",
       "      <td>2.0</td>\n",
       "      <td>New Property</td>\n",
       "      <td>Flat</td>\n",
       "      <td>29729.729730</td>\n",
       "    </tr>\n",
       "    <tr>\n",
       "      <th>4</th>\n",
       "      <td>13500000.0</td>\n",
       "      <td>malad east, Malad East, Mumbai - North Mumbai,...</td>\n",
       "      <td>1090.0</td>\n",
       "      <td>2.0</td>\n",
       "      <td>2.0</td>\n",
       "      <td>New Property</td>\n",
       "      <td>Flat</td>\n",
       "      <td>12385.321101</td>\n",
       "    </tr>\n",
       "  </tbody>\n",
       "</table>\n",
       "</div>"
      ],
      "text/plain": [
       "        price                                            Address    area  \\\n",
       "0  22400000.0        Chembur, Mumbai - Harbour Line, Maharashtra   629.0   \n",
       "1  35000000.0        Chembur, Mumbai - Harbour Line, Maharashtra   974.0   \n",
       "2  31700000.0  Ghatkopar East, Mumbai - Central Line, Maharas...   968.0   \n",
       "3  18700000.0  Plot Number 283, Road Number 3, Jawahar Nagar,...   629.0   \n",
       "4  13500000.0  malad east, Malad East, Mumbai - North Mumbai,...  1090.0   \n",
       "\n",
       "   Bedrooms  Bathrooms      neworold type_of_building    Price_sqft  \n",
       "0       2.0        2.0  New Property             Flat  35612.082671  \n",
       "1       3.0        2.0  New Property             Flat  35934.291581  \n",
       "2       3.0        3.0  New Property             Flat  32747.933884  \n",
       "3       2.0        2.0  New Property             Flat  29729.729730  \n",
       "4       2.0        2.0  New Property             Flat  12385.321101  "
      ]
     },
     "execution_count": 16,
     "metadata": {},
     "output_type": "execute_result"
    }
   ],
   "source": [
    "# Dropping non-essential columns from the dataframe and storing it in df1.\n",
    "df1=df.drop(['latitude','longitude','Status','Lift','Landmarks','desc','Furnished_status','Balcony','parking'],axis=1)\n",
    "df1.head(5)"
   ]
  },
  {
   "cell_type": "code",
   "execution_count": 17,
   "id": "64b191dc",
   "metadata": {},
   "outputs": [
    {
     "data": {
      "text/plain": [
       "price               0\n",
       "Address             0\n",
       "area                0\n",
       "Bedrooms            0\n",
       "Bathrooms           0\n",
       "neworold            0\n",
       "type_of_building    0\n",
       "Price_sqft          0\n",
       "dtype: int64"
      ]
     },
     "execution_count": 17,
     "metadata": {},
     "output_type": "execute_result"
    }
   ],
   "source": [
    "# Checking Null values in the existing data in the dataframe.\n",
    "df1.isnull().sum()"
   ]
  },
  {
   "cell_type": "code",
   "execution_count": 18,
   "id": "9705f52f",
   "metadata": {},
   "outputs": [
    {
     "data": {
      "text/plain": [
       "(6255, 8)"
      ]
     },
     "execution_count": 18,
     "metadata": {},
     "output_type": "execute_result"
    }
   ],
   "source": [
    "df1.shape"
   ]
  },
  {
   "cell_type": "code",
   "execution_count": 19,
   "id": "49ca293c",
   "metadata": {},
   "outputs": [
    {
     "data": {
      "text/plain": [
       "array([ 2.,  3.,  4.,  6.,  5.,  8.,  7., 10.])"
      ]
     },
     "execution_count": 19,
     "metadata": {},
     "output_type": "execute_result"
    }
   ],
   "source": [
    "# Checking Unique values in the size Column.\n",
    "df1['Bedrooms'].unique()"
   ]
  },
  {
   "cell_type": "code",
   "execution_count": 20,
   "id": "cd1b229d",
   "metadata": {},
   "outputs": [
    {
     "data": {
      "text/plain": [
       "array([ 629.,  974.,  968., 1090.,  630., 1188.,  820., 3260., 2500.,\n",
       "       1085., 1500.,  891.,  800., 1020., 3180., 1000., 1058.,  875.,\n",
       "       1600., 2430.,  688.,  950.,  900., 2135., 1412., 1450., 1765.,\n",
       "       1818., 1355., 1415., 1045.,  965., 2560., 2195., 1175.,  983.,\n",
       "       1031., 1255., 2800., 1350., 2205., 1976., 1060., 1084., 1650.,\n",
       "        913., 1034., 1260., 1100., 3000., 1094., 1550., 1181., 1669.,\n",
       "       1035., 1775., 2252., 1390., 1014., 2000., 1400., 1545., 1055.,\n",
       "       1866., 1070., 1144., 1200.,  690., 1024., 1019., 2377., 1377.,\n",
       "       1507., 2250., 1071., 1190., 2068., 8000., 2017., 1800., 1540.,\n",
       "       3018., 1062., 4600.,  894., 2410., 1050., 1013.,  850., 2340.,\n",
       "        676.,  990., 1330.,  915., 1210.,  961., 1131.,  727.,  806.,\n",
       "       1750.,  910., 1316., 1513., 2300.,  860., 1914., 2303., 1700.,\n",
       "       1157.,  925.,  585., 1075., 1160.,  764.,  667., 1030.,  980.,\n",
       "       1670., 1250.,  998., 1156.,  960., 1900., 1307., 1680., 1300.,\n",
       "       2275., 1360., 1430., 5250., 1313.,  955., 2200., 2700.,  880.,\n",
       "       1435., 1046., 1104., 1150., 1850., 1296., 1565., 1755., 1304.,\n",
       "       2175.,  811., 3500.,  810.,  700.,  890., 1029., 1136., 4200.,\n",
       "       2664., 1026.,  740., 1220.,  750.,  840., 1539.,  862., 1143.,\n",
       "       1091.,  702., 1120., 1530., 2100., 1080., 1370.,  815., 1715.,\n",
       "        924.,  712.,  951., 1970., 1803., 1273., 1605., 1315., 2555.,\n",
       "        885.,  795., 1017.,  634., 1112.,  920., 1155., 1180., 1580.,\n",
       "       1790., 2650.,  685., 1356., 2450., 5500., 4100., 3200., 5113.,\n",
       "        830., 2052.,  620.,  638.,  650.,  535., 1585.,  979., 1725.,\n",
       "        940., 3150., 1125., 1832., 2844., 3600.,  923., 1705., 1258.,\n",
       "       2790.,  935., 1542., 6200., 5000., 1340., 1215., 1140.,  991.,\n",
       "       1295., 2095.,  945., 2280.,  855., 1886., 3780., 2815., 1440.,\n",
       "       1740.,  844., 2900., 3195., 1950., 1566., 2060., 1820., 1495.,\n",
       "        635.,  732., 1245., 1205., 2400.,  661.,  780., 2475.,  943.,\n",
       "        858., 1275., 2600., 1130.,  930.,  975., 1665., 1365., 1512.,\n",
       "        770., 1551., 1086., 1587., 1010., 3300.,  781.,  809., 2653.,\n",
       "       1241., 1448., 3100.,  812., 1568., 1006., 1688.,  600., 1417.,\n",
       "       2014., 2350., 1240.,  865.,  735.,  905.,  792., 2090.,  720.,\n",
       "       1491.,  590.,  560.,  790., 1425.,  715.,  911.,  835., 1063.,\n",
       "       1236., 1145., 1005.,  710.,  834., 1268., 1209., 1325., 1395.,\n",
       "       1735.,  882., 1044.,  557., 1276., 1920., 1088., 1672.,  760.,\n",
       "       1265.,  874., 1323., 2520., 1372.,  805.,  568., 2888.,  753.,\n",
       "       2850.,  746.,  672.,  761., 1520.,  645., 1341., 3822., 1159.,\n",
       "       1782.,  682., 1002.,  660., 1230., 3250., 1728.,  721., 1247.,\n",
       "       1881., 1115., 3420., 1380., 1105., 1490., 1290., 2478., 1404.,\n",
       "       1001.,  970.,  765., 1875.,  870.,  966., 1379., 1110., 1860.,\n",
       "        763.,  967., 1610., 7500., 3800.,  648., 4500.,  787., 1320.,\n",
       "       1233.,  545.,  628., 1248., 1170.,  640.,  985., 1675.,  550.,\n",
       "       2645., 1632., 1640., 1079., 1690., 1368., 1416.,  825.,  786.,\n",
       "        668., 1065.,  644.,  852., 1994., 1840., 1335.,  675.,  649.,\n",
       "        623.,  845., 1660.,  854.,  588., 1092., 1829., 1935., 1535.,\n",
       "       2030.,  981., 4000.,  604.,  729.,  886., 1620., 6000.,  520.,\n",
       "       1237., 1270.,  738., 2345.,  808., 1225., 2050., 1229., 1310.,\n",
       "       1414., 2546., 2150.,  959., 1575.,  774., 1015.,  773., 1267.,\n",
       "        581.,  730., 1118., 1346.,  849., 1456.,  745.,  909., 3959.,\n",
       "        570.,  614., 1165., 1940., 1089.,  663., 1008.,  785., 2170.,\n",
       "       2226., 1042., 2208., 1780.,  833., 1280., 1930.,  976., 1470.,\n",
       "       1880.,  528.,  772.,  725., 2187., 1685.,  655.,  775., 1375.,\n",
       "       1538., 1778., 1061., 3120., 1098., 1985., 2717., 2710., 1681.,\n",
       "        957., 1106.,  709., 2230.,  816.,  861., 1465.,  895.,  846.,\n",
       "        575., 1003., 2220.,  933.,  527.,  673., 1139., 6600.,  771.,\n",
       "       1965.,  987., 1480., 1825.,  752., 2160., 2685., 1830., 4250.,\n",
       "        510.,  619.,  642.,  847., 1590., 1235., 1385., 1667.,  813.,\n",
       "       1095., 1305.,  783.,  657., 2586.,  711.,  693.,  705.,  583.,\n",
       "        971., 1285., 1206., 1198., 1128., 1040.,  731., 6712., 1332.,\n",
       "        878.,  804.,  788., 1163.,  533.,  828., 1525.,  931., 1302.,\n",
       "        819., 1183., 1027.,  972.,  654., 2130.,  857., 4122., 1625.,\n",
       "       1012., 1076.,  848., 3889., 1486., 1025.,  695., 1420.,  707.,\n",
       "        995.,  624., 1151.,  726.,  797.,  625.,  698., 1256.,  888.,\n",
       "       1343., 1378.,  866.,  733.,  868.,  996.,  565.,  574., 1278.,\n",
       "        827.,  696., 1066.,  680.,  584.,  564.,  932.,  856.,  784.,\n",
       "        610.,  922.,  902.,  603.,  708., 3400.,  904.,  751.,  908.,\n",
       "       1570., 1051., 1594., 1203.,  899.,  718.,  503.,  719., 1962.,\n",
       "       2325.,  853., 1133.,  646.,  670., 1717.,  724.,  618., 1359.,\n",
       "       1642.,  963., 1577.,  580.,  779., 1251.,  936., 1199., 1216.,\n",
       "       1852., 1194., 1081.,  612., 1049., 3690.,  883.,  929., 1048.,\n",
       "       2265., 1204., 1109., 1960., 2575., 2950., 2168., 6900., 1635.,\n",
       "       1865.,  699.,  896.,  803.,  689.,  999., 1701., 1475., 1153.,\n",
       "       2070., 1038., 1572., 1615.,  665., 1560.,  706., 1612., 3450.,\n",
       "        927.,  571.,  984., 2054.,  921., 2108., 1277., 1388., 1253.,\n",
       "        516., 1339.,  627.,  755.,  506., 5800., 1135.,  893., 3340.,\n",
       "        838., 1732., 1358., 3900.,  613., 1186., 2210.,  553., 1242.,\n",
       "       4800., 1773.,  906.,  651., 1123.,  701.,  576.,  549., 1004.,\n",
       "        942.,  766.,  605., 1515., 1078.,  601.,  877.,  884.,  758.,\n",
       "       1503., 1606., 5640., 1714.,  656., 1053., 1195., 1334.,  717.,\n",
       "       2360., 2285.,  703.,  540.,  836.,  736.,  714.,  941.,  946.,\n",
       "       1459.,  589., 1043.,  977.,  525., 1147., 1392., 2075., 1126.,\n",
       "        841., 1129.,  823.,  994.,  664.,  958., 4400., 1222., 1116.,\n",
       "        798.,  986.,  697., 1366.,  817.,  692.,  728.,  639., 1028.,\n",
       "       1595., 1111., 1638., 1664.,  777.,  507.,  713.,  647.,  748.,\n",
       "       2467.,  892., 1502.,  839.,  948.,  807., 1284.,  595., 1182.,\n",
       "        897., 1021., 2412.,  782., 2613., 1261., 1056., 2526., 1662.,\n",
       "       2235., 3835.,  562., 1727., 1347.,  881., 1720., 1641., 1683.,\n",
       "        607.,  563., 1171., 5200., 1695.,  734., 2630.,  704., 1770.,\n",
       "        934.,  928., 1876., 2413., 1272., 2810., 1892., 3125.,  536.,\n",
       "       2245., 1721., 1611.,  938., 1557.,  652., 1596., 1345., 2696.,\n",
       "       1184., 1463., 1083.,  671., 1218., 1338., 1835., 3520.,  962.,\n",
       "       1234., 3070.,  572.,  873., 1630.,  658.,  778., 1558., 1890.,\n",
       "        606., 1294.,  889.,  677., 1496., 1344., 1369., 1317.,  669.,\n",
       "       2820., 2590.,  609., 2760., 1676., 1783., 3615.,  997., 1445.,\n",
       "        530., 1185.,  937.,  824., 3205., 1007., 1492., 1855., 3617.,\n",
       "       2795., 1409., 2190., 1485., 3350.,  818.,  901., 1457.,  747.,\n",
       "        814., 1376., 1201., 1281., 1172., 2327., 4350., 1910., 2065.,\n",
       "       2845., 4678., 1708., 1878., 1722., 1287., 2040.,  743., 1041.,\n",
       "        662., 3700., 2811., 2062., 1238., 1167.,  982., 1059., 1016.,\n",
       "       1196., 1518.,  776., 3151.,  615., 1232., 1122., 2695.,  756.,\n",
       "        863.,  674., 1768., 2349.,  912.,  993., 1446., 2505., 1666.,\n",
       "        694.,  737., 2625., 1462., 1054., 1584., 1009.,  837.,  907.,\n",
       "        872., 2550., 1468.,  879., 1508., 1052., 1836.,  762., 1132.,\n",
       "       6100., 2385., 2015., 1622., 1096.,  722.])"
      ]
     },
     "execution_count": 20,
     "metadata": {},
     "output_type": "execute_result"
    }
   ],
   "source": [
    "# The array of unique values in the area column.\n",
    "df1['area'].unique()"
   ]
  },
  {
   "cell_type": "code",
   "execution_count": 21,
   "id": "d98060c5",
   "metadata": {},
   "outputs": [
    {
     "data": {
      "text/plain": [
       "933"
      ]
     },
     "execution_count": 21,
     "metadata": {},
     "output_type": "execute_result"
    }
   ],
   "source": [
    "# Number of unique values in the total_sqft column.\n",
    "df1['area'].nunique()"
   ]
  },
  {
   "cell_type": "code",
   "execution_count": 22,
   "id": "497b6300",
   "metadata": {},
   "outputs": [
    {
     "data": {
      "text/plain": [
       "array([ 2.,  3.,  4.,  5.,  6.,  7.,  8., 10.,  0.])"
      ]
     },
     "execution_count": 22,
     "metadata": {},
     "output_type": "execute_result"
    }
   ],
   "source": [
    "# Checking Unique values in the size Column.\n",
    "df1['Bathrooms'].unique()"
   ]
  },
  {
   "cell_type": "code",
   "execution_count": 23,
   "id": "40d38953",
   "metadata": {},
   "outputs": [
    {
     "data": {
      "text/plain": [
       "<AxesSubplot:>"
      ]
     },
     "execution_count": 23,
     "metadata": {},
     "output_type": "execute_result"
    },
    {
     "data": {
      "image/png": "[encoded data removed]",
      "text/plain": [
       "<Figure size 640x480 with 2 Axes>"
      ]
     },
     "metadata": {},
     "output_type": "display_data"
    }
   ],
   "source": [
    "sns.heatmap(df1.corr(),annot=True)"
   ]
  },
  {
   "cell_type": "markdown",
   "id": "f6cc35bc",
   "metadata": {},
   "source": [
    "## Dealing with Dimensionality Curse"
   ]
  },
  {
   "cell_type": "code",
   "execution_count": 24,
   "id": "6fb9378e",
   "metadata": {},
   "outputs": [
    {
     "data": {
      "text/plain": [
       "3632"
      ]
     },
     "execution_count": 24,
     "metadata": {},
     "output_type": "execute_result"
    }
   ],
   "source": [
    "# Unique values of Location\n",
    "df1.Address.nunique()"
   ]
  },
  {
   "cell_type": "code",
   "execution_count": 25,
   "id": "592fe5b8",
   "metadata": {},
   "outputs": [
    {
     "data": {
      "text/plain": [
       "array(['Chembur, Mumbai - Harbour Line, Maharashtra',\n",
       "       'Ghatkopar East, Mumbai - Central Line, Maharashtra',\n",
       "       'Plot Number 283, Road Number 3, Jawahar Nagar, Off S. V. Road, Goregaon (West), Mumbai, Maharashtra, India 400104, Goregaon West, Mumbai - North Mumbai, Maharashtra',\n",
       "       ...,\n",
       "       'bldg no-137, axiom aven, near ganesh mandir, pant nagar, ghatkopar-east, mum-75, Ghatkopar East, Mumbai - Central Line, Maharashtra',\n",
       "       '502., Hari Om Nagar, Mumbai - North Mumbai, Maharashtra',\n",
       "       'Lokhandwala Complex, Andheri West, Lokhandwala Complex, Mumbai - Western Suburbs, Maharashtra'],\n",
       "      dtype=object)"
      ]
     },
     "execution_count": 25,
     "metadata": {},
     "output_type": "execute_result"
    }
   ],
   "source": [
    "df1.Address.unique()"
   ]
  },
  {
   "cell_type": "code",
   "execution_count": 26,
   "id": "382b36d4",
   "metadata": {},
   "outputs": [],
   "source": [
    "df1.Address=df1.Address.apply(lambda x:x.strip())"
   ]
  },
  {
   "cell_type": "code",
   "execution_count": 27,
   "id": "7d3c0721",
   "metadata": {},
   "outputs": [],
   "source": [
    "df1[\"LengthAddress\"] = df1.Address.apply(lambda x: len(x.split(\",\")))"
   ]
  },
  {
   "cell_type": "code",
   "execution_count": 28,
   "id": "9d7c1eb6",
   "metadata": {},
   "outputs": [],
   "source": [
    "df1 = df1[df1[\"LengthAddress\"]!=2]"
   ]
  },
  {
   "cell_type": "code",
   "execution_count": 29,
   "id": "65e74037",
   "metadata": {},
   "outputs": [
    {
     "data": {
      "text/plain": [
       "0             Chembur, Mumbai - Harbour Line, Maharashtra\n",
       "1             Chembur, Mumbai - Harbour Line, Maharashtra\n",
       "2       Ghatkopar East, Mumbai - Central Line, Maharas...\n",
       "3       Plot Number 283, Road Number 3, Jawahar Nagar,...\n",
       "4       malad east, Malad East, Mumbai - North Mumbai,...\n",
       "                              ...                        \n",
       "6250     Yari Road, Mumbai - Western Suburbs, Maharashtra\n",
       "6251    502., Hari Om Nagar, Mumbai - North Mumbai, Ma...\n",
       "6252    Lokhandwala Complex, Andheri West, Lokhandwala...\n",
       "6253           Sion, Mumbai - Central Mumbai, Maharashtra\n",
       "6254      Mulund West, Mumbai - Central Line, Maharashtra\n",
       "Name: Address, Length: 6248, dtype: object"
      ]
     },
     "execution_count": 29,
     "metadata": {},
     "output_type": "execute_result"
    }
   ],
   "source": [
    "df1.Address"
   ]
  },
  {
   "cell_type": "code",
   "execution_count": 30,
   "id": "5cca96b8",
   "metadata": {},
   "outputs": [],
   "source": [
    "df1[\"Address\"] = df1.Address.apply(lambda x: x.split(\",\")[::-1][2].strip())"
   ]
  },
  {
   "cell_type": "code",
   "execution_count": 31,
   "id": "5f190e33",
   "metadata": {},
   "outputs": [
    {
     "data": {
      "text/plain": [
       "Mira Road                       302\n",
       "Andheri West                    284\n",
       "Mulund West                     194\n",
       "Andheri East                    185\n",
       "Kandivali West                  165\n",
       "                               ... \n",
       "Babulnath                         1\n",
       "Ghatkopar westGhatkopar West      1\n",
       "Vallabh Baug Lane                 1\n",
       "Banganga                          1\n",
       "Hari Om Nagar                     1\n",
       "Name: Address, Length: 638, dtype: int64"
      ]
     },
     "execution_count": 31,
     "metadata": {},
     "output_type": "execute_result"
    }
   ],
   "source": [
    "df1.Address.value_counts()"
   ]
  },
  {
   "cell_type": "code",
   "execution_count": 32,
   "id": "52d05dcb",
   "metadata": {},
   "outputs": [
    {
     "data": {
      "text/plain": [
       "Address\n",
       "Mira Road                                                  302\n",
       "Andheri West                                               284\n",
       "Mulund West                                                194\n",
       "Andheri East                                               185\n",
       "Kandivali West                                             165\n",
       "                                                          ... \n",
       "Koldongri                                                    1\n",
       "Kokani Pada                                                  1\n",
       "Kokan Nagar                                                  1\n",
       "Kirol Village                                                1\n",
       "omkar Alta Monte Kurar Village Malad East Mumbai 400097      1\n",
       "Name: Address, Length: 638, dtype: int64"
      ]
     },
     "execution_count": 32,
     "metadata": {},
     "output_type": "execute_result"
    }
   ],
   "source": [
    "location_stats=df1.groupby('Address')['Address'].count().sort_values(ascending = False)\n",
    "location_stats\n",
    "# We display in ascending order and find there are many locations in the very end having only single entries. We need to combine.\n",
    "# them under one location name and deal with sparse data and reduce complexity."
   ]
  },
  {
   "cell_type": "code",
   "execution_count": 33,
   "id": "24262e4c",
   "metadata": {},
   "outputs": [
    {
     "data": {
      "text/plain": [
       "Address\n",
       "Mahalakshmi                                                9\n",
       "Gorai 1                                                    9\n",
       "Peddar Road                                                9\n",
       "Amboli                                                     9\n",
       "Lal Baug                                                   9\n",
       "                                                          ..\n",
       "Koldongri                                                  1\n",
       "Kokani Pada                                                1\n",
       "Kokan Nagar                                                1\n",
       "Kirol Village                                              1\n",
       "omkar Alta Monte Kurar Village Malad East Mumbai 400097    1\n",
       "Name: Address, Length: 520, dtype: int64"
      ]
     },
     "execution_count": 33,
     "metadata": {},
     "output_type": "execute_result"
    }
   ],
   "source": [
    "location_stats_lessthan10=location_stats[location_stats<10]\n",
    "location_stats_lessthan10\n",
    "#3573 locations have less than 10 houses among 3632 entries in location. This is a huge amount and needs to be deal with to\n",
    "# increase efficiency of our model."
   ]
  },
  {
   "cell_type": "code",
   "execution_count": 34,
   "id": "79d1b8a0",
   "metadata": {},
   "outputs": [
    {
     "data": {
      "text/plain": [
       "119"
      ]
     },
     "execution_count": 34,
     "metadata": {},
     "output_type": "execute_result"
    }
   ],
   "source": [
    "#Unique entries after replacing the locations having less than 10 entries as Other Location\n",
    "df1.Address=df1.Address.apply(lambda x:'Other location' if x in location_stats_lessthan10 else x )\n",
    "df1.Address.nunique()"
   ]
  },
  {
   "cell_type": "code",
   "execution_count": 35,
   "id": "80a754d8",
   "metadata": {},
   "outputs": [],
   "source": [
    "df1.drop(\"LengthAddress\",axis=1,inplace=True)"
   ]
  },
  {
   "cell_type": "code",
   "execution_count": 36,
   "id": "b0b6d40d",
   "metadata": {},
   "outputs": [
    {
     "data": {
      "text/html": [
       "<div>\n",
       "<style scoped>\n",
       "    .dataframe tbody tr th:only-of-type {\n",
       "        vertical-align: middle;\n",
       "    }\n",
       "\n",
       "    .dataframe tbody tr th {\n",
       "        vertical-align: top;\n",
       "    }\n",
       "\n",
       "    .dataframe thead th {\n",
       "        text-align: right;\n",
       "    }\n",
       "</style>\n",
       "<table border=\"1\" class=\"dataframe\">\n",
       "  <thead>\n",
       "    <tr style=\"text-align: right;\">\n",
       "      <th></th>\n",
       "      <th>price</th>\n",
       "      <th>Address</th>\n",
       "      <th>area</th>\n",
       "      <th>Bedrooms</th>\n",
       "      <th>Bathrooms</th>\n",
       "      <th>neworold</th>\n",
       "      <th>type_of_building</th>\n",
       "      <th>Price_sqft</th>\n",
       "    </tr>\n",
       "  </thead>\n",
       "  <tbody>\n",
       "    <tr>\n",
       "      <th>0</th>\n",
       "      <td>22400000.0</td>\n",
       "      <td>Chembur</td>\n",
       "      <td>629.0</td>\n",
       "      <td>2.0</td>\n",
       "      <td>2.0</td>\n",
       "      <td>New Property</td>\n",
       "      <td>Flat</td>\n",
       "      <td>35612.082671</td>\n",
       "    </tr>\n",
       "    <tr>\n",
       "      <th>1</th>\n",
       "      <td>35000000.0</td>\n",
       "      <td>Chembur</td>\n",
       "      <td>974.0</td>\n",
       "      <td>3.0</td>\n",
       "      <td>2.0</td>\n",
       "      <td>New Property</td>\n",
       "      <td>Flat</td>\n",
       "      <td>35934.291581</td>\n",
       "    </tr>\n",
       "    <tr>\n",
       "      <th>2</th>\n",
       "      <td>31700000.0</td>\n",
       "      <td>Ghatkopar East</td>\n",
       "      <td>968.0</td>\n",
       "      <td>3.0</td>\n",
       "      <td>3.0</td>\n",
       "      <td>New Property</td>\n",
       "      <td>Flat</td>\n",
       "      <td>32747.933884</td>\n",
       "    </tr>\n",
       "    <tr>\n",
       "      <th>3</th>\n",
       "      <td>18700000.0</td>\n",
       "      <td>Goregaon West</td>\n",
       "      <td>629.0</td>\n",
       "      <td>2.0</td>\n",
       "      <td>2.0</td>\n",
       "      <td>New Property</td>\n",
       "      <td>Flat</td>\n",
       "      <td>29729.729730</td>\n",
       "    </tr>\n",
       "    <tr>\n",
       "      <th>4</th>\n",
       "      <td>13500000.0</td>\n",
       "      <td>Malad East</td>\n",
       "      <td>1090.0</td>\n",
       "      <td>2.0</td>\n",
       "      <td>2.0</td>\n",
       "      <td>New Property</td>\n",
       "      <td>Flat</td>\n",
       "      <td>12385.321101</td>\n",
       "    </tr>\n",
       "    <tr>\n",
       "      <th>5</th>\n",
       "      <td>13000000.0</td>\n",
       "      <td>Bhandup</td>\n",
       "      <td>630.0</td>\n",
       "      <td>2.0</td>\n",
       "      <td>2.0</td>\n",
       "      <td>New Property</td>\n",
       "      <td>Flat</td>\n",
       "      <td>20634.920635</td>\n",
       "    </tr>\n",
       "    <tr>\n",
       "      <th>6</th>\n",
       "      <td>20700000.0</td>\n",
       "      <td>Goregaon West</td>\n",
       "      <td>1188.0</td>\n",
       "      <td>2.0</td>\n",
       "      <td>2.0</td>\n",
       "      <td>New Property</td>\n",
       "      <td>Flat</td>\n",
       "      <td>17424.242424</td>\n",
       "    </tr>\n",
       "    <tr>\n",
       "      <th>7</th>\n",
       "      <td>22900000.0</td>\n",
       "      <td>Other location</td>\n",
       "      <td>968.0</td>\n",
       "      <td>3.0</td>\n",
       "      <td>3.0</td>\n",
       "      <td>New Property</td>\n",
       "      <td>Flat</td>\n",
       "      <td>23657.024793</td>\n",
       "    </tr>\n",
       "    <tr>\n",
       "      <th>8</th>\n",
       "      <td>17000000.0</td>\n",
       "      <td>Wadala</td>\n",
       "      <td>820.0</td>\n",
       "      <td>2.0</td>\n",
       "      <td>2.0</td>\n",
       "      <td>New Property</td>\n",
       "      <td>Flat</td>\n",
       "      <td>20731.707317</td>\n",
       "    </tr>\n",
       "    <tr>\n",
       "      <th>9</th>\n",
       "      <td>81000000.0</td>\n",
       "      <td>Worli</td>\n",
       "      <td>3260.0</td>\n",
       "      <td>3.0</td>\n",
       "      <td>3.0</td>\n",
       "      <td>Resale</td>\n",
       "      <td>Flat</td>\n",
       "      <td>24846.625767</td>\n",
       "    </tr>\n",
       "  </tbody>\n",
       "</table>\n",
       "</div>"
      ],
      "text/plain": [
       "        price         Address    area  Bedrooms  Bathrooms      neworold  \\\n",
       "0  22400000.0         Chembur   629.0       2.0        2.0  New Property   \n",
       "1  35000000.0         Chembur   974.0       3.0        2.0  New Property   \n",
       "2  31700000.0  Ghatkopar East   968.0       3.0        3.0  New Property   \n",
       "3  18700000.0   Goregaon West   629.0       2.0        2.0  New Property   \n",
       "4  13500000.0      Malad East  1090.0       2.0        2.0  New Property   \n",
       "5  13000000.0         Bhandup   630.0       2.0        2.0  New Property   \n",
       "6  20700000.0   Goregaon West  1188.0       2.0        2.0  New Property   \n",
       "7  22900000.0  Other location   968.0       3.0        3.0  New Property   \n",
       "8  17000000.0          Wadala   820.0       2.0        2.0  New Property   \n",
       "9  81000000.0           Worli  3260.0       3.0        3.0        Resale   \n",
       "\n",
       "  type_of_building    Price_sqft  \n",
       "0             Flat  35612.082671  \n",
       "1             Flat  35934.291581  \n",
       "2             Flat  32747.933884  \n",
       "3             Flat  29729.729730  \n",
       "4             Flat  12385.321101  \n",
       "5             Flat  20634.920635  \n",
       "6             Flat  17424.242424  \n",
       "7             Flat  23657.024793  \n",
       "8             Flat  20731.707317  \n",
       "9             Flat  24846.625767  "
      ]
     },
     "execution_count": 36,
     "metadata": {},
     "output_type": "execute_result"
    }
   ],
   "source": [
    "df1.head(10)"
   ]
  },
  {
   "cell_type": "markdown",
   "id": "f70fb9ee",
   "metadata": {},
   "source": [
    "## Outliers reduction and removal\n",
    "### Average room size in mumbai 200 sq. ft"
   ]
  },
  {
   "cell_type": "code",
   "execution_count": 37,
   "id": "a00cb5bf",
   "metadata": {},
   "outputs": [
    {
     "data": {
      "text/html": [
       "<div>\n",
       "<style scoped>\n",
       "    .dataframe tbody tr th:only-of-type {\n",
       "        vertical-align: middle;\n",
       "    }\n",
       "\n",
       "    .dataframe tbody tr th {\n",
       "        vertical-align: top;\n",
       "    }\n",
       "\n",
       "    .dataframe thead th {\n",
       "        text-align: right;\n",
       "    }\n",
       "</style>\n",
       "<table border=\"1\" class=\"dataframe\">\n",
       "  <thead>\n",
       "    <tr style=\"text-align: right;\">\n",
       "      <th></th>\n",
       "      <th>price</th>\n",
       "      <th>Address</th>\n",
       "      <th>area</th>\n",
       "      <th>Bedrooms</th>\n",
       "      <th>Bathrooms</th>\n",
       "      <th>neworold</th>\n",
       "      <th>type_of_building</th>\n",
       "      <th>Price_sqft</th>\n",
       "    </tr>\n",
       "  </thead>\n",
       "  <tbody>\n",
       "    <tr>\n",
       "      <th>957</th>\n",
       "      <td>10500000.0</td>\n",
       "      <td>Other location</td>\n",
       "      <td>660.0</td>\n",
       "      <td>6.0</td>\n",
       "      <td>2.0</td>\n",
       "      <td>Resale</td>\n",
       "      <td>Individual House</td>\n",
       "      <td>15909.090909</td>\n",
       "    </tr>\n",
       "    <tr>\n",
       "      <th>1186</th>\n",
       "      <td>12500000.0</td>\n",
       "      <td>Dahisar East</td>\n",
       "      <td>570.0</td>\n",
       "      <td>3.0</td>\n",
       "      <td>2.0</td>\n",
       "      <td>Resale</td>\n",
       "      <td>Flat</td>\n",
       "      <td>21929.824561</td>\n",
       "    </tr>\n",
       "    <tr>\n",
       "      <th>2638</th>\n",
       "      <td>15000000.0</td>\n",
       "      <td>Mulund West</td>\n",
       "      <td>516.0</td>\n",
       "      <td>3.0</td>\n",
       "      <td>3.0</td>\n",
       "      <td>Resale</td>\n",
       "      <td>Flat</td>\n",
       "      <td>29069.767442</td>\n",
       "    </tr>\n",
       "    <tr>\n",
       "      <th>2994</th>\n",
       "      <td>80000000.0</td>\n",
       "      <td>Other location</td>\n",
       "      <td>816.0</td>\n",
       "      <td>10.0</td>\n",
       "      <td>10.0</td>\n",
       "      <td>Resale</td>\n",
       "      <td>Flat</td>\n",
       "      <td>98039.215686</td>\n",
       "    </tr>\n",
       "    <tr>\n",
       "      <th>3084</th>\n",
       "      <td>9000000.0</td>\n",
       "      <td>Ulhasnagar</td>\n",
       "      <td>1200.0</td>\n",
       "      <td>8.0</td>\n",
       "      <td>8.0</td>\n",
       "      <td>Resale</td>\n",
       "      <td>Individual House</td>\n",
       "      <td>7500.000000</td>\n",
       "    </tr>\n",
       "  </tbody>\n",
       "</table>\n",
       "</div>"
      ],
      "text/plain": [
       "           price         Address    area  Bedrooms  Bathrooms neworold  \\\n",
       "957   10500000.0  Other location   660.0       6.0        2.0   Resale   \n",
       "1186  12500000.0    Dahisar East   570.0       3.0        2.0   Resale   \n",
       "2638  15000000.0     Mulund West   516.0       3.0        3.0   Resale   \n",
       "2994  80000000.0  Other location   816.0      10.0       10.0   Resale   \n",
       "3084   9000000.0      Ulhasnagar  1200.0       8.0        8.0   Resale   \n",
       "\n",
       "      type_of_building    Price_sqft  \n",
       "957   Individual House  15909.090909  \n",
       "1186              Flat  21929.824561  \n",
       "2638              Flat  29069.767442  \n",
       "2994              Flat  98039.215686  \n",
       "3084  Individual House   7500.000000  "
      ]
     },
     "execution_count": 37,
     "metadata": {},
     "output_type": "execute_result"
    }
   ],
   "source": [
    "# Checking what all entries have less than 200 sqft per bedroom. 200 is our base limit.\n",
    "df1[df1.area/df1.Bedrooms < 200].head()"
   ]
  },
  {
   "cell_type": "markdown",
   "id": "fcfd7698",
   "metadata": {},
   "source": [
    "#### These are erroneous data - \n",
    "#### Eg 1. 660sqft home with 6 bedrooms, 570sqft with 3 bedrooms, very unusual data. So needs to be removed.\n",
    "#### Eg 2. 516 sqft home with 3 bedrooms, 816 sqft with 10 bedrooms, very unusual data. So needs to be removed."
   ]
  },
  {
   "cell_type": "code",
   "execution_count": 38,
   "id": "3b8a373f",
   "metadata": {},
   "outputs": [
    {
     "data": {
      "text/plain": [
       "(6248, 8)"
      ]
     },
     "execution_count": 38,
     "metadata": {},
     "output_type": "execute_result"
    }
   ],
   "source": [
    "#Current Shape of our data frame.\n",
    "df1.shape"
   ]
  },
  {
   "cell_type": "code",
   "execution_count": 39,
   "id": "dd947930",
   "metadata": {},
   "outputs": [
    {
     "data": {
      "text/plain": [
       "(6235, 8)"
      ]
     },
     "execution_count": 39,
     "metadata": {},
     "output_type": "execute_result"
    }
   ],
   "source": [
    "#Creating a new dataframe df2 and removing all the unusual data points which give erroneous data for sqft per bedroom.\n",
    "df2 = df1[(df1.area/df1.Bedrooms > 200)]\n",
    "df2.shape\n",
    "#Shape after removal of certain erroneous datapoints."
   ]
  },
  {
   "cell_type": "code",
   "execution_count": 40,
   "id": "0545a17c",
   "metadata": {},
   "outputs": [
    {
     "data": {
      "text/plain": [
       "13"
      ]
     },
     "execution_count": 40,
     "metadata": {},
     "output_type": "execute_result"
    }
   ],
   "source": [
    "#Total number of unusual datapoints removed\n",
    "len(df1)-len(df2)"
   ]
  },
  {
   "cell_type": "code",
   "execution_count": 41,
   "id": "c451eac6",
   "metadata": {},
   "outputs": [
    {
     "data": {
      "text/plain": [
       "count      6235.000000\n",
       "mean      21422.112978\n",
       "std       12659.044211\n",
       "min        1500.000000\n",
       "25%       13750.000000\n",
       "50%       19285.714286\n",
       "75%       26500.000000\n",
       "max      119047.619048\n",
       "Name: Price_sqft, dtype: float64"
      ]
     },
     "execution_count": 41,
     "metadata": {},
     "output_type": "execute_result"
    }
   ],
   "source": [
    "df2.Price_sqft.describe()"
   ]
  },
  {
   "cell_type": "code",
   "execution_count": 42,
   "id": "09f9cea8",
   "metadata": {},
   "outputs": [
    {
     "data": {
      "text/html": [
       "<div>\n",
       "<style scoped>\n",
       "    .dataframe tbody tr th:only-of-type {\n",
       "        vertical-align: middle;\n",
       "    }\n",
       "\n",
       "    .dataframe tbody tr th {\n",
       "        vertical-align: top;\n",
       "    }\n",
       "\n",
       "    .dataframe thead th {\n",
       "        text-align: right;\n",
       "    }\n",
       "</style>\n",
       "<table border=\"1\" class=\"dataframe\">\n",
       "  <thead>\n",
       "    <tr style=\"text-align: right;\">\n",
       "      <th></th>\n",
       "      <th>price</th>\n",
       "      <th>Address</th>\n",
       "      <th>area</th>\n",
       "      <th>Bedrooms</th>\n",
       "      <th>Bathrooms</th>\n",
       "      <th>neworold</th>\n",
       "      <th>type_of_building</th>\n",
       "      <th>Price_sqft</th>\n",
       "    </tr>\n",
       "  </thead>\n",
       "  <tbody>\n",
       "    <tr>\n",
       "      <th>0</th>\n",
       "      <td>22400000.0</td>\n",
       "      <td>Chembur</td>\n",
       "      <td>629.0</td>\n",
       "      <td>2.0</td>\n",
       "      <td>2.0</td>\n",
       "      <td>New Property</td>\n",
       "      <td>Flat</td>\n",
       "      <td>35612.082671</td>\n",
       "    </tr>\n",
       "    <tr>\n",
       "      <th>1</th>\n",
       "      <td>35000000.0</td>\n",
       "      <td>Chembur</td>\n",
       "      <td>974.0</td>\n",
       "      <td>3.0</td>\n",
       "      <td>2.0</td>\n",
       "      <td>New Property</td>\n",
       "      <td>Flat</td>\n",
       "      <td>35934.291581</td>\n",
       "    </tr>\n",
       "    <tr>\n",
       "      <th>2</th>\n",
       "      <td>31700000.0</td>\n",
       "      <td>Ghatkopar East</td>\n",
       "      <td>968.0</td>\n",
       "      <td>3.0</td>\n",
       "      <td>3.0</td>\n",
       "      <td>New Property</td>\n",
       "      <td>Flat</td>\n",
       "      <td>32747.933884</td>\n",
       "    </tr>\n",
       "    <tr>\n",
       "      <th>3</th>\n",
       "      <td>18700000.0</td>\n",
       "      <td>Goregaon West</td>\n",
       "      <td>629.0</td>\n",
       "      <td>2.0</td>\n",
       "      <td>2.0</td>\n",
       "      <td>New Property</td>\n",
       "      <td>Flat</td>\n",
       "      <td>29729.729730</td>\n",
       "    </tr>\n",
       "    <tr>\n",
       "      <th>4</th>\n",
       "      <td>13500000.0</td>\n",
       "      <td>Malad East</td>\n",
       "      <td>1090.0</td>\n",
       "      <td>2.0</td>\n",
       "      <td>2.0</td>\n",
       "      <td>New Property</td>\n",
       "      <td>Flat</td>\n",
       "      <td>12385.321101</td>\n",
       "    </tr>\n",
       "  </tbody>\n",
       "</table>\n",
       "</div>"
      ],
      "text/plain": [
       "        price         Address    area  Bedrooms  Bathrooms      neworold  \\\n",
       "0  22400000.0         Chembur   629.0       2.0        2.0  New Property   \n",
       "1  35000000.0         Chembur   974.0       3.0        2.0  New Property   \n",
       "2  31700000.0  Ghatkopar East   968.0       3.0        3.0  New Property   \n",
       "3  18700000.0   Goregaon West   629.0       2.0        2.0  New Property   \n",
       "4  13500000.0      Malad East  1090.0       2.0        2.0  New Property   \n",
       "\n",
       "  type_of_building    Price_sqft  \n",
       "0             Flat  35612.082671  \n",
       "1             Flat  35934.291581  \n",
       "2             Flat  32747.933884  \n",
       "3             Flat  29729.729730  \n",
       "4             Flat  12385.321101  "
      ]
     },
     "execution_count": 42,
     "metadata": {},
     "output_type": "execute_result"
    }
   ],
   "source": [
    "df2.head()"
   ]
  },
  {
   "cell_type": "code",
   "execution_count": 43,
   "id": "61b69678",
   "metadata": {},
   "outputs": [
    {
     "data": {
      "text/plain": [
       "(6235, 8)"
      ]
     },
     "execution_count": 43,
     "metadata": {},
     "output_type": "execute_result"
    }
   ],
   "source": [
    "df2.shape"
   ]
  },
  {
   "cell_type": "code",
   "execution_count": 44,
   "id": "ead19e70",
   "metadata": {},
   "outputs": [
    {
     "data": {
      "text/html": [
       "<div>\n",
       "<style scoped>\n",
       "    .dataframe tbody tr th:only-of-type {\n",
       "        vertical-align: middle;\n",
       "    }\n",
       "\n",
       "    .dataframe tbody tr th {\n",
       "        vertical-align: top;\n",
       "    }\n",
       "\n",
       "    .dataframe thead tr th {\n",
       "        text-align: left;\n",
       "    }\n",
       "\n",
       "    .dataframe thead tr:last-of-type th {\n",
       "        text-align: right;\n",
       "    }\n",
       "</style>\n",
       "<table border=\"1\" class=\"dataframe\">\n",
       "  <thead>\n",
       "    <tr>\n",
       "      <th></th>\n",
       "      <th colspan=\"8\" halign=\"left\">price</th>\n",
       "      <th colspan=\"7\" halign=\"left\">area</th>\n",
       "      <th>...</th>\n",
       "      <th colspan=\"7\" halign=\"left\">Bathrooms</th>\n",
       "      <th colspan=\"8\" halign=\"left\">Price_sqft</th>\n",
       "    </tr>\n",
       "    <tr>\n",
       "      <th></th>\n",
       "      <th>count</th>\n",
       "      <th>mean</th>\n",
       "      <th>std</th>\n",
       "      <th>min</th>\n",
       "      <th>25%</th>\n",
       "      <th>50%</th>\n",
       "      <th>75%</th>\n",
       "      <th>max</th>\n",
       "      <th>count</th>\n",
       "      <th>mean</th>\n",
       "      <th>std</th>\n",
       "      <th>min</th>\n",
       "      <th>25%</th>\n",
       "      <th>50%</th>\n",
       "      <th>75%</th>\n",
       "      <th>...</th>\n",
       "      <th>mean</th>\n",
       "      <th>std</th>\n",
       "      <th>min</th>\n",
       "      <th>25%</th>\n",
       "      <th>50%</th>\n",
       "      <th>75%</th>\n",
       "      <th>max</th>\n",
       "      <th>count</th>\n",
       "      <th>mean</th>\n",
       "      <th>std</th>\n",
       "      <th>min</th>\n",
       "      <th>25%</th>\n",
       "      <th>50%</th>\n",
       "      <th>75%</th>\n",
       "      <th>max</th>\n",
       "    </tr>\n",
       "    <tr>\n",
       "      <th>Address</th>\n",
       "      <th></th>\n",
       "      <th></th>\n",
       "      <th></th>\n",
       "      <th></th>\n",
       "      <th></th>\n",
       "      <th></th>\n",
       "      <th></th>\n",
       "      <th></th>\n",
       "      <th></th>\n",
       "      <th></th>\n",
       "      <th></th>\n",
       "      <th></th>\n",
       "      <th></th>\n",
       "      <th></th>\n",
       "      <th></th>\n",
       "      <th></th>\n",
       "      <th></th>\n",
       "      <th></th>\n",
       "      <th></th>\n",
       "      <th></th>\n",
       "      <th></th>\n",
       "      <th></th>\n",
       "      <th></th>\n",
       "      <th></th>\n",
       "      <th></th>\n",
       "      <th></th>\n",
       "      <th></th>\n",
       "      <th></th>\n",
       "      <th></th>\n",
       "      <th></th>\n",
       "      <th></th>\n",
       "    </tr>\n",
       "  </thead>\n",
       "  <tbody>\n",
       "    <tr>\n",
       "      <th>Agripada</th>\n",
       "      <td>15.0</td>\n",
       "      <td>4.613333e+07</td>\n",
       "      <td>2.108272e+07</td>\n",
       "      <td>17500000.0</td>\n",
       "      <td>34500000.0</td>\n",
       "      <td>42500000.0</td>\n",
       "      <td>48750000.0</td>\n",
       "      <td>105000000.0</td>\n",
       "      <td>15.0</td>\n",
       "      <td>1290.533333</td>\n",
       "      <td>434.710062</td>\n",
       "      <td>800.0</td>\n",
       "      <td>929.00</td>\n",
       "      <td>1300.0</td>\n",
       "      <td>1425.00</td>\n",
       "      <td>...</td>\n",
       "      <td>2.600000</td>\n",
       "      <td>0.736788</td>\n",
       "      <td>2.0</td>\n",
       "      <td>2.0</td>\n",
       "      <td>2.0</td>\n",
       "      <td>3.0</td>\n",
       "      <td>4.0</td>\n",
       "      <td>15.0</td>\n",
       "      <td>35628.942263</td>\n",
       "      <td>8720.286716</td>\n",
       "      <td>21875.000000</td>\n",
       "      <td>30314.814815</td>\n",
       "      <td>33928.571429</td>\n",
       "      <td>42751.826722</td>\n",
       "      <td>51219.512195</td>\n",
       "    </tr>\n",
       "    <tr>\n",
       "      <th>Ambernath</th>\n",
       "      <td>22.0</td>\n",
       "      <td>5.211364e+06</td>\n",
       "      <td>3.811291e+06</td>\n",
       "      <td>1650000.0</td>\n",
       "      <td>3587500.0</td>\n",
       "      <td>4200000.0</td>\n",
       "      <td>5200000.0</td>\n",
       "      <td>21000000.0</td>\n",
       "      <td>22.0</td>\n",
       "      <td>1019.545455</td>\n",
       "      <td>383.634713</td>\n",
       "      <td>580.0</td>\n",
       "      <td>840.00</td>\n",
       "      <td>933.0</td>\n",
       "      <td>1030.00</td>\n",
       "      <td>...</td>\n",
       "      <td>2.090909</td>\n",
       "      <td>0.294245</td>\n",
       "      <td>2.0</td>\n",
       "      <td>2.0</td>\n",
       "      <td>2.0</td>\n",
       "      <td>2.0</td>\n",
       "      <td>3.0</td>\n",
       "      <td>22.0</td>\n",
       "      <td>4851.561546</td>\n",
       "      <td>1370.661836</td>\n",
       "      <td>2844.827586</td>\n",
       "      <td>4065.883191</td>\n",
       "      <td>4724.415427</td>\n",
       "      <td>5382.545272</td>\n",
       "      <td>8750.000000</td>\n",
       "    </tr>\n",
       "    <tr>\n",
       "      <th>Andheri East</th>\n",
       "      <td>185.0</td>\n",
       "      <td>2.314432e+07</td>\n",
       "      <td>9.895711e+06</td>\n",
       "      <td>5000000.0</td>\n",
       "      <td>17000000.0</td>\n",
       "      <td>21000000.0</td>\n",
       "      <td>27000000.0</td>\n",
       "      <td>90000000.0</td>\n",
       "      <td>185.0</td>\n",
       "      <td>1082.313514</td>\n",
       "      <td>388.715665</td>\n",
       "      <td>540.0</td>\n",
       "      <td>847.00</td>\n",
       "      <td>1000.0</td>\n",
       "      <td>1200.00</td>\n",
       "      <td>...</td>\n",
       "      <td>2.286486</td>\n",
       "      <td>0.570165</td>\n",
       "      <td>2.0</td>\n",
       "      <td>2.0</td>\n",
       "      <td>2.0</td>\n",
       "      <td>2.0</td>\n",
       "      <td>5.0</td>\n",
       "      <td>185.0</td>\n",
       "      <td>21676.026888</td>\n",
       "      <td>5780.577362</td>\n",
       "      <td>5555.555556</td>\n",
       "      <td>17684.887460</td>\n",
       "      <td>20740.740741</td>\n",
       "      <td>24861.878453</td>\n",
       "      <td>38888.888889</td>\n",
       "    </tr>\n",
       "    <tr>\n",
       "      <th>Andheri West</th>\n",
       "      <td>283.0</td>\n",
       "      <td>3.325283e+07</td>\n",
       "      <td>2.425500e+07</td>\n",
       "      <td>4450000.0</td>\n",
       "      <td>20000000.0</td>\n",
       "      <td>25000000.0</td>\n",
       "      <td>35000000.0</td>\n",
       "      <td>160000000.0</td>\n",
       "      <td>283.0</td>\n",
       "      <td>1258.865724</td>\n",
       "      <td>695.591903</td>\n",
       "      <td>510.0</td>\n",
       "      <td>887.00</td>\n",
       "      <td>1079.0</td>\n",
       "      <td>1382.50</td>\n",
       "      <td>...</td>\n",
       "      <td>2.484099</td>\n",
       "      <td>0.809252</td>\n",
       "      <td>2.0</td>\n",
       "      <td>2.0</td>\n",
       "      <td>2.0</td>\n",
       "      <td>3.0</td>\n",
       "      <td>6.0</td>\n",
       "      <td>283.0</td>\n",
       "      <td>25854.649809</td>\n",
       "      <td>6960.506893</td>\n",
       "      <td>2225.000000</td>\n",
       "      <td>21037.778110</td>\n",
       "      <td>25000.000000</td>\n",
       "      <td>30199.129853</td>\n",
       "      <td>56277.056277</td>\n",
       "    </tr>\n",
       "    <tr>\n",
       "      <th>Bandra East</th>\n",
       "      <td>26.0</td>\n",
       "      <td>4.810385e+07</td>\n",
       "      <td>3.233758e+07</td>\n",
       "      <td>11000000.0</td>\n",
       "      <td>26000000.0</td>\n",
       "      <td>32250000.0</td>\n",
       "      <td>63750000.0</td>\n",
       "      <td>148800000.0</td>\n",
       "      <td>26.0</td>\n",
       "      <td>1498.500000</td>\n",
       "      <td>706.746532</td>\n",
       "      <td>580.0</td>\n",
       "      <td>1065.00</td>\n",
       "      <td>1275.0</td>\n",
       "      <td>1837.50</td>\n",
       "      <td>...</td>\n",
       "      <td>3.000000</td>\n",
       "      <td>1.095445</td>\n",
       "      <td>2.0</td>\n",
       "      <td>2.0</td>\n",
       "      <td>3.0</td>\n",
       "      <td>4.0</td>\n",
       "      <td>5.0</td>\n",
       "      <td>26.0</td>\n",
       "      <td>30552.761284</td>\n",
       "      <td>8625.930422</td>\n",
       "      <td>18965.517241</td>\n",
       "      <td>23215.128828</td>\n",
       "      <td>28759.057971</td>\n",
       "      <td>39583.333333</td>\n",
       "      <td>46500.000000</td>\n",
       "    </tr>\n",
       "    <tr>\n",
       "      <th>...</th>\n",
       "      <td>...</td>\n",
       "      <td>...</td>\n",
       "      <td>...</td>\n",
       "      <td>...</td>\n",
       "      <td>...</td>\n",
       "      <td>...</td>\n",
       "      <td>...</td>\n",
       "      <td>...</td>\n",
       "      <td>...</td>\n",
       "      <td>...</td>\n",
       "      <td>...</td>\n",
       "      <td>...</td>\n",
       "      <td>...</td>\n",
       "      <td>...</td>\n",
       "      <td>...</td>\n",
       "      <td>...</td>\n",
       "      <td>...</td>\n",
       "      <td>...</td>\n",
       "      <td>...</td>\n",
       "      <td>...</td>\n",
       "      <td>...</td>\n",
       "      <td>...</td>\n",
       "      <td>...</td>\n",
       "      <td>...</td>\n",
       "      <td>...</td>\n",
       "      <td>...</td>\n",
       "      <td>...</td>\n",
       "      <td>...</td>\n",
       "      <td>...</td>\n",
       "      <td>...</td>\n",
       "      <td>...</td>\n",
       "    </tr>\n",
       "    <tr>\n",
       "      <th>Wadala East</th>\n",
       "      <td>18.0</td>\n",
       "      <td>3.185556e+07</td>\n",
       "      <td>1.236486e+07</td>\n",
       "      <td>15800000.0</td>\n",
       "      <td>26125000.0</td>\n",
       "      <td>29100000.0</td>\n",
       "      <td>36875000.0</td>\n",
       "      <td>72900000.0</td>\n",
       "      <td>18.0</td>\n",
       "      <td>1340.888889</td>\n",
       "      <td>443.573708</td>\n",
       "      <td>750.0</td>\n",
       "      <td>1126.75</td>\n",
       "      <td>1271.5</td>\n",
       "      <td>1357.50</td>\n",
       "      <td>...</td>\n",
       "      <td>2.777778</td>\n",
       "      <td>0.732084</td>\n",
       "      <td>2.0</td>\n",
       "      <td>2.0</td>\n",
       "      <td>3.0</td>\n",
       "      <td>3.0</td>\n",
       "      <td>4.0</td>\n",
       "      <td>18.0</td>\n",
       "      <td>23752.982983</td>\n",
       "      <td>3577.519592</td>\n",
       "      <td>18750.000000</td>\n",
       "      <td>20846.641318</td>\n",
       "      <td>23194.740884</td>\n",
       "      <td>27035.388835</td>\n",
       "      <td>29550.060803</td>\n",
       "    </tr>\n",
       "    <tr>\n",
       "      <th>Wadala West</th>\n",
       "      <td>12.0</td>\n",
       "      <td>3.141667e+07</td>\n",
       "      <td>1.370772e+07</td>\n",
       "      <td>17000000.0</td>\n",
       "      <td>20000000.0</td>\n",
       "      <td>28750000.0</td>\n",
       "      <td>38500000.0</td>\n",
       "      <td>62500000.0</td>\n",
       "      <td>12.0</td>\n",
       "      <td>1254.583333</td>\n",
       "      <td>468.893564</td>\n",
       "      <td>700.0</td>\n",
       "      <td>928.75</td>\n",
       "      <td>1185.0</td>\n",
       "      <td>1482.50</td>\n",
       "      <td>...</td>\n",
       "      <td>2.416667</td>\n",
       "      <td>0.668558</td>\n",
       "      <td>2.0</td>\n",
       "      <td>2.0</td>\n",
       "      <td>2.0</td>\n",
       "      <td>3.0</td>\n",
       "      <td>4.0</td>\n",
       "      <td>12.0</td>\n",
       "      <td>25120.825574</td>\n",
       "      <td>5329.046235</td>\n",
       "      <td>16000.000000</td>\n",
       "      <td>22881.155303</td>\n",
       "      <td>26401.320616</td>\n",
       "      <td>28786.166365</td>\n",
       "      <td>33532.934132</td>\n",
       "    </tr>\n",
       "    <tr>\n",
       "      <th>Walkeshwar</th>\n",
       "      <td>11.0</td>\n",
       "      <td>1.079545e+08</td>\n",
       "      <td>8.656138e+07</td>\n",
       "      <td>31500000.0</td>\n",
       "      <td>53500000.0</td>\n",
       "      <td>67500000.0</td>\n",
       "      <td>140750000.0</td>\n",
       "      <td>300000000.0</td>\n",
       "      <td>11.0</td>\n",
       "      <td>1480.909091</td>\n",
       "      <td>990.257083</td>\n",
       "      <td>550.0</td>\n",
       "      <td>825.00</td>\n",
       "      <td>1000.0</td>\n",
       "      <td>2100.00</td>\n",
       "      <td>...</td>\n",
       "      <td>2.909091</td>\n",
       "      <td>1.221028</td>\n",
       "      <td>2.0</td>\n",
       "      <td>2.0</td>\n",
       "      <td>2.0</td>\n",
       "      <td>3.5</td>\n",
       "      <td>5.0</td>\n",
       "      <td>11.0</td>\n",
       "      <td>69062.811075</td>\n",
       "      <td>12740.814363</td>\n",
       "      <td>57272.727273</td>\n",
       "      <td>60000.000000</td>\n",
       "      <td>63035.714286</td>\n",
       "      <td>74166.666667</td>\n",
       "      <td>95238.095238</td>\n",
       "    </tr>\n",
       "    <tr>\n",
       "      <th>Worli</th>\n",
       "      <td>70.0</td>\n",
       "      <td>7.024286e+07</td>\n",
       "      <td>4.844104e+07</td>\n",
       "      <td>12500000.0</td>\n",
       "      <td>41750000.0</td>\n",
       "      <td>63750000.0</td>\n",
       "      <td>75750000.0</td>\n",
       "      <td>340000000.0</td>\n",
       "      <td>70.0</td>\n",
       "      <td>1848.457143</td>\n",
       "      <td>1127.036716</td>\n",
       "      <td>510.0</td>\n",
       "      <td>1144.25</td>\n",
       "      <td>1519.5</td>\n",
       "      <td>2346.75</td>\n",
       "      <td>...</td>\n",
       "      <td>3.228571</td>\n",
       "      <td>1.156850</td>\n",
       "      <td>2.0</td>\n",
       "      <td>2.0</td>\n",
       "      <td>3.0</td>\n",
       "      <td>4.0</td>\n",
       "      <td>6.0</td>\n",
       "      <td>70.0</td>\n",
       "      <td>39065.538429</td>\n",
       "      <td>11747.271936</td>\n",
       "      <td>16129.032258</td>\n",
       "      <td>32925.353627</td>\n",
       "      <td>36402.116402</td>\n",
       "      <td>43416.746994</td>\n",
       "      <td>83333.333333</td>\n",
       "    </tr>\n",
       "    <tr>\n",
       "      <th>Yari Road</th>\n",
       "      <td>10.0</td>\n",
       "      <td>2.367000e+07</td>\n",
       "      <td>5.839530e+06</td>\n",
       "      <td>18000000.0</td>\n",
       "      <td>19500000.0</td>\n",
       "      <td>21600000.0</td>\n",
       "      <td>26375000.0</td>\n",
       "      <td>34000000.0</td>\n",
       "      <td>10.0</td>\n",
       "      <td>950.500000</td>\n",
       "      <td>160.804402</td>\n",
       "      <td>725.0</td>\n",
       "      <td>842.50</td>\n",
       "      <td>915.0</td>\n",
       "      <td>1037.50</td>\n",
       "      <td>...</td>\n",
       "      <td>2.100000</td>\n",
       "      <td>0.316228</td>\n",
       "      <td>2.0</td>\n",
       "      <td>2.0</td>\n",
       "      <td>2.0</td>\n",
       "      <td>2.0</td>\n",
       "      <td>3.0</td>\n",
       "      <td>10.0</td>\n",
       "      <td>24896.814171</td>\n",
       "      <td>4082.937038</td>\n",
       "      <td>18095.238095</td>\n",
       "      <td>23206.018519</td>\n",
       "      <td>24686.274510</td>\n",
       "      <td>26742.610837</td>\n",
       "      <td>33000.000000</td>\n",
       "    </tr>\n",
       "  </tbody>\n",
       "</table>\n",
       "<p>119 rows × 40 columns</p>\n",
       "</div>"
      ],
      "text/plain": [
       "              price                                                      \\\n",
       "              count          mean           std         min         25%   \n",
       "Address                                                                   \n",
       "Agripada       15.0  4.613333e+07  2.108272e+07  17500000.0  34500000.0   \n",
       "Ambernath      22.0  5.211364e+06  3.811291e+06   1650000.0   3587500.0   \n",
       "Andheri East  185.0  2.314432e+07  9.895711e+06   5000000.0  17000000.0   \n",
       "Andheri West  283.0  3.325283e+07  2.425500e+07   4450000.0  20000000.0   \n",
       "Bandra East    26.0  4.810385e+07  3.233758e+07  11000000.0  26000000.0   \n",
       "...             ...           ...           ...         ...         ...   \n",
       "Wadala East    18.0  3.185556e+07  1.236486e+07  15800000.0  26125000.0   \n",
       "Wadala West    12.0  3.141667e+07  1.370772e+07  17000000.0  20000000.0   \n",
       "Walkeshwar     11.0  1.079545e+08  8.656138e+07  31500000.0  53500000.0   \n",
       "Worli          70.0  7.024286e+07  4.844104e+07  12500000.0  41750000.0   \n",
       "Yari Road      10.0  2.367000e+07  5.839530e+06  18000000.0  19500000.0   \n",
       "\n",
       "                                                     area               \\\n",
       "                     50%          75%          max  count         mean   \n",
       "Address                                                                  \n",
       "Agripada      42500000.0   48750000.0  105000000.0   15.0  1290.533333   \n",
       "Ambernath      4200000.0    5200000.0   21000000.0   22.0  1019.545455   \n",
       "Andheri East  21000000.0   27000000.0   90000000.0  185.0  1082.313514   \n",
       "Andheri West  25000000.0   35000000.0  160000000.0  283.0  1258.865724   \n",
       "Bandra East   32250000.0   63750000.0  148800000.0   26.0  1498.500000   \n",
       "...                  ...          ...          ...    ...          ...   \n",
       "Wadala East   29100000.0   36875000.0   72900000.0   18.0  1340.888889   \n",
       "Wadala West   28750000.0   38500000.0   62500000.0   12.0  1254.583333   \n",
       "Walkeshwar    67500000.0  140750000.0  300000000.0   11.0  1480.909091   \n",
       "Worli         63750000.0   75750000.0  340000000.0   70.0  1848.457143   \n",
       "Yari Road     21600000.0   26375000.0   34000000.0   10.0   950.500000   \n",
       "\n",
       "                                                            ... Bathrooms  \\\n",
       "                      std    min      25%     50%      75%  ...      mean   \n",
       "Address                                                     ...             \n",
       "Agripada       434.710062  800.0   929.00  1300.0  1425.00  ...  2.600000   \n",
       "Ambernath      383.634713  580.0   840.00   933.0  1030.00  ...  2.090909   \n",
       "Andheri East   388.715665  540.0   847.00  1000.0  1200.00  ...  2.286486   \n",
       "Andheri West   695.591903  510.0   887.00  1079.0  1382.50  ...  2.484099   \n",
       "Bandra East    706.746532  580.0  1065.00  1275.0  1837.50  ...  3.000000   \n",
       "...                   ...    ...      ...     ...      ...  ...       ...   \n",
       "Wadala East    443.573708  750.0  1126.75  1271.5  1357.50  ...  2.777778   \n",
       "Wadala West    468.893564  700.0   928.75  1185.0  1482.50  ...  2.416667   \n",
       "Walkeshwar     990.257083  550.0   825.00  1000.0  2100.00  ...  2.909091   \n",
       "Worli         1127.036716  510.0  1144.25  1519.5  2346.75  ...  3.228571   \n",
       "Yari Road      160.804402  725.0   842.50   915.0  1037.50  ...  2.100000   \n",
       "\n",
       "                                                Price_sqft                \\\n",
       "                   std  min  25%  50%  75%  max      count          mean   \n",
       "Address                                                                    \n",
       "Agripada      0.736788  2.0  2.0  2.0  3.0  4.0       15.0  35628.942263   \n",
       "Ambernath     0.294245  2.0  2.0  2.0  2.0  3.0       22.0   4851.561546   \n",
       "Andheri East  0.570165  2.0  2.0  2.0  2.0  5.0      185.0  21676.026888   \n",
       "Andheri West  0.809252  2.0  2.0  2.0  3.0  6.0      283.0  25854.649809   \n",
       "Bandra East   1.095445  2.0  2.0  3.0  4.0  5.0       26.0  30552.761284   \n",
       "...                ...  ...  ...  ...  ...  ...        ...           ...   \n",
       "Wadala East   0.732084  2.0  2.0  3.0  3.0  4.0       18.0  23752.982983   \n",
       "Wadala West   0.668558  2.0  2.0  2.0  3.0  4.0       12.0  25120.825574   \n",
       "Walkeshwar    1.221028  2.0  2.0  2.0  3.5  5.0       11.0  69062.811075   \n",
       "Worli         1.156850  2.0  2.0  3.0  4.0  6.0       70.0  39065.538429   \n",
       "Yari Road     0.316228  2.0  2.0  2.0  2.0  3.0       10.0  24896.814171   \n",
       "\n",
       "                                                                      \\\n",
       "                       std           min           25%           50%   \n",
       "Address                                                                \n",
       "Agripada       8720.286716  21875.000000  30314.814815  33928.571429   \n",
       "Ambernath      1370.661836   2844.827586   4065.883191   4724.415427   \n",
       "Andheri East   5780.577362   5555.555556  17684.887460  20740.740741   \n",
       "Andheri West   6960.506893   2225.000000  21037.778110  25000.000000   \n",
       "Bandra East    8625.930422  18965.517241  23215.128828  28759.057971   \n",
       "...                    ...           ...           ...           ...   \n",
       "Wadala East    3577.519592  18750.000000  20846.641318  23194.740884   \n",
       "Wadala West    5329.046235  16000.000000  22881.155303  26401.320616   \n",
       "Walkeshwar    12740.814363  57272.727273  60000.000000  63035.714286   \n",
       "Worli         11747.271936  16129.032258  32925.353627  36402.116402   \n",
       "Yari Road      4082.937038  18095.238095  23206.018519  24686.274510   \n",
       "\n",
       "                                          \n",
       "                       75%           max  \n",
       "Address                                   \n",
       "Agripada      42751.826722  51219.512195  \n",
       "Ambernath      5382.545272   8750.000000  \n",
       "Andheri East  24861.878453  38888.888889  \n",
       "Andheri West  30199.129853  56277.056277  \n",
       "Bandra East   39583.333333  46500.000000  \n",
       "...                    ...           ...  \n",
       "Wadala East   27035.388835  29550.060803  \n",
       "Wadala West   28786.166365  33532.934132  \n",
       "Walkeshwar    74166.666667  95238.095238  \n",
       "Worli         43416.746994  83333.333333  \n",
       "Yari Road     26742.610837  33000.000000  \n",
       "\n",
       "[119 rows x 40 columns]"
      ]
     },
     "execution_count": 44,
     "metadata": {},
     "output_type": "execute_result"
    }
   ],
   "source": [
    "df_describe=df2.groupby('Address').describe()\n",
    "df_describe"
   ]
  },
  {
   "cell_type": "code",
   "execution_count": 45,
   "id": "d28cf106",
   "metadata": {},
   "outputs": [
    {
     "data": {
      "text/plain": [
       "<seaborn.axisgrid.FacetGrid at 0x26aa02ace50>"
      ]
     },
     "execution_count": 45,
     "metadata": {},
     "output_type": "execute_result"
    },
    {
     "data": {
      "image/png": "[encoded data removed]",
      "text/plain": [
       "<Figure size 500x500 with 1 Axes>"
      ]
     },
     "metadata": {},
     "output_type": "display_data"
    }
   ],
   "source": [
    "# Distribution of mean value of Bedrooms grouped by location.\n",
    "sns.displot(df_describe['Bedrooms']['mean'],bins = 10,kde=True)"
   ]
  },
  {
   "cell_type": "code",
   "execution_count": 46,
   "id": "7bdc8595",
   "metadata": {},
   "outputs": [
    {
     "data": {
      "text/plain": [
       "<seaborn.axisgrid.FacetGrid at 0x26aa02d1e20>"
      ]
     },
     "execution_count": 46,
     "metadata": {},
     "output_type": "execute_result"
    },
    {
     "data": {
      "image/png": "[encoded data removed]",
      "text/plain": [
       "<Figure size 500x500 with 1 Axes>"
      ]
     },
     "metadata": {},
     "output_type": "display_data"
    }
   ],
   "source": [
    "# Distribution of mean value of Bathrooms grouped by location.\n",
    "sns.displot(df_describe['Bathrooms']['mean'],bins = 10,kde=True)"
   ]
  },
  {
   "cell_type": "code",
   "execution_count": 47,
   "id": "74bc0a4f",
   "metadata": {},
   "outputs": [
    {
     "data": {
      "text/plain": [
       "<seaborn.axisgrid.FacetGrid at 0x26aa02fc3d0>"
      ]
     },
     "execution_count": 47,
     "metadata": {},
     "output_type": "execute_result"
    },
    {
     "data": {
      "image/png": "[encoded data removed]",
      "text/plain": [
       "<Figure size 500x500 with 1 Axes>"
      ]
     },
     "metadata": {},
     "output_type": "display_data"
    }
   ],
   "source": [
    "# Distribution of mean value of area grouped by location.\n",
    "sns.displot(df_describe['area']['mean'],bins = 10,kde=True)"
   ]
  },
  {
   "cell_type": "code",
   "execution_count": 48,
   "id": "2c68570f",
   "metadata": {},
   "outputs": [
    {
     "data": {
      "text/plain": [
       "<seaborn.axisgrid.FacetGrid at 0x26aa142fb50>"
      ]
     },
     "execution_count": 48,
     "metadata": {},
     "output_type": "execute_result"
    },
    {
     "data": {
      "image/png": "[encoded data removed]",
      "text/plain": [
       "<Figure size 500x500 with 1 Axes>"
      ]
     },
     "metadata": {},
     "output_type": "display_data"
    }
   ],
   "source": [
    "# Distribution of mean value of price per sqft grouped by location.\n",
    "sns.displot(df_describe['Price_sqft']['mean'],bins = 10,kde=True)"
   ]
  },
  {
   "cell_type": "code",
   "execution_count": 49,
   "id": "9aa62382",
   "metadata": {},
   "outputs": [
    {
     "data": {
      "text/plain": [
       "(5949, 8)"
      ]
     },
     "execution_count": 49,
     "metadata": {},
     "output_type": "execute_result"
    }
   ],
   "source": [
    "def remove_outliers_iqr(ds):\n",
    "    df_out = pd.DataFrame()\n",
    "    for key,subdf in ds.groupby('Address'):\n",
    "        Q1 = subdf[\"Price_sqft\"].quantile(0.25)\n",
    "        Q3 = subdf[\"Price_sqft\"].quantile(0.75)\n",
    "        IQR = Q3 - Q1\n",
    "        lower_bound = Q1 - 1.5 * IQR\n",
    "        upper_bound = Q3 + 1.5 * IQR\n",
    "        reduced_df = subdf[(subdf.Price_sqft>=lower_bound) & (subdf.Price_sqft<=upper_bound)]\n",
    "        df_out = pd.concat([df_out,reduced_df], ignore_index = True)\n",
    "    return df_out\n",
    "df3 =remove_outliers_iqr(df2)\n",
    "df3.shape #Displaying the Shape"
   ]
  },
  {
   "cell_type": "code",
   "execution_count": 109,
   "id": "3c5c06be",
   "metadata": {},
   "outputs": [
    {
     "data": {
      "text/plain": [
       "286"
      ]
     },
     "execution_count": 109,
     "metadata": {},
     "output_type": "execute_result"
    }
   ],
   "source": [
    "df2.shape[0]-df3.shape[0]"
   ]
  },
  {
   "cell_type": "code",
   "execution_count": 103,
   "id": "8369eca2",
   "metadata": {},
   "outputs": [
    {
     "data": {
      "image/png": "[encoded data removed]",
      "text/plain": [
       "<Figure size 1500x1500 with 1 Axes>"
      ]
     },
     "metadata": {},
     "output_type": "display_data"
    }
   ],
   "source": [
    "#Certain Data Points have same sqft 3BHK flats priced less than 2BHK flats. These are outliers and have to be removed.\n",
    "def plot_scatter_chart(df,location):\n",
    "    bhk2 = df[(df.Address==location) & (df.Bedrooms==2)]  #Finding 2BHK flats\n",
    "    bhk3 = df[(df.Address==location) & (df.Bedrooms==3)]  #Finding 3BHK flats\n",
    "    plt.figure(figsize=(15,15))\n",
    "    plt.scatter(bhk2.area,bhk2.price,color='blue',label='2 BHK', s=50)\n",
    "    plt.scatter(bhk3.area,bhk3.price,marker='+', color='green',label='3 BHK', s=50)\n",
    "    plt.xlabel(\"Total Square Feet Area\")\n",
    "    plt.ylabel(\"Price (Indian Rupees)\")\n",
    "    plt.title(location)\n",
    "    plt.legend()\n",
    "    \n",
    "plot_scatter_chart(df3,\"Mira Road\")"
   ]
  },
  {
   "cell_type": "code",
   "execution_count": 52,
   "id": "d0230bce",
   "metadata": {},
   "outputs": [],
   "source": [
    "#plot_scatter_chart(df3,\"Andheri West\")"
   ]
  },
  {
   "cell_type": "code",
   "execution_count": 110,
   "id": "4f255fdb",
   "metadata": {},
   "outputs": [
    {
     "data": {
      "text/plain": [
       "(5106, 8)"
      ]
     },
     "execution_count": 110,
     "metadata": {},
     "output_type": "execute_result"
    }
   ],
   "source": [
    "#2BHK flat should have price lesser than 3BHK of same sqft.\n",
    "#Filtering out all those values of say 2BHK whose price is less than 3BHK. \n",
    "def remove_bhk_outliers(df):\n",
    "    exclude_indices = np.array([])\n",
    "    for location, location_df in df.groupby('Address'):\n",
    "        bhk_stats = {}\n",
    "        for bhk, bhk_df in location_df.groupby('Bedrooms'):\n",
    "            bhk_stats[bhk] = {\n",
    "                'mean': np.mean(bhk_df.Price_sqft),\n",
    "                'std': np.std(bhk_df.Price_sqft),\n",
    "                'count': bhk_df.shape[0]\n",
    "            }\n",
    "        for bhk, bhk_df in location_df.groupby('Bedrooms'):\n",
    "            stats = bhk_stats.get(bhk-1)\n",
    "            if stats and stats['count']>5:\n",
    "                exclude_indices = np.append(exclude_indices, bhk_df[bhk_df.Price_sqft<(stats['mean'])].index.values)\n",
    "    return df.drop(exclude_indices,axis='index')\n",
    "df4 = remove_bhk_outliers(df3)\n",
    "df4.shape"
   ]
  },
  {
   "cell_type": "code",
   "execution_count": 107,
   "id": "169ef94e",
   "metadata": {},
   "outputs": [
    {
     "data": {
      "image/png": "[encoded data removed]",
      "text/plain": [
       "<Figure size 1500x1500 with 1 Axes>"
      ]
     },
     "metadata": {},
     "output_type": "display_data"
    }
   ],
   "source": [
    "plot_scatter_chart(df4,\"Mira Road\")"
   ]
  },
  {
   "cell_type": "code",
   "execution_count": null,
   "id": "bae052cc",
   "metadata": {},
   "outputs": [],
   "source": [
    "#plot_scatter_chart(df4,\"Andheri West\")"
   ]
  },
  {
   "cell_type": "code",
   "execution_count": 112,
   "id": "d96f9b56",
   "metadata": {},
   "outputs": [
    {
     "data": {
      "text/plain": [
       "843"
      ]
     },
     "execution_count": 112,
     "metadata": {},
     "output_type": "execute_result"
    }
   ],
   "source": [
    "#Total number of anomalies removes\n",
    "df3.shape[0] - df4.shape[0]"
   ]
  },
  {
   "cell_type": "markdown",
   "id": "86a83bb4",
   "metadata": {},
   "source": [
    "### Removing bathroom specific outliers."
   ]
  },
  {
   "cell_type": "code",
   "execution_count": 113,
   "id": "d194c0a6",
   "metadata": {},
   "outputs": [
    {
     "data": {
      "text/plain": [
       "array([2., 4., 3., 5., 6., 0., 7., 8.])"
      ]
     },
     "execution_count": 113,
     "metadata": {},
     "output_type": "execute_result"
    }
   ],
   "source": [
    "df4.Bathrooms.unique()"
   ]
  },
  {
   "cell_type": "code",
   "execution_count": 55,
   "id": "e64f9395",
   "metadata": {},
   "outputs": [
    {
     "data": {
      "text/plain": [
       "Text(0, 0.5, 'Count')"
      ]
     },
     "execution_count": 55,
     "metadata": {},
     "output_type": "execute_result"
    },
    {
     "data": {
      "image/png": "[encoded data removed]",
      "text/plain": [
       "<Figure size 640x480 with 1 Axes>"
      ]
     },
     "metadata": {},
     "output_type": "display_data"
    }
   ],
   "source": [
    "plt.hist(df4.Bathrooms,rwidth=0.8)\n",
    "plt.xlabel(\"Number of bathrooms\")\n",
    "plt.ylabel(\"Count\")"
   ]
  },
  {
   "cell_type": "code",
   "execution_count": 114,
   "id": "cb02027a",
   "metadata": {},
   "outputs": [
    {
     "ename": "ValueError",
     "evalue": "Can only compare identically-labeled Series objects",
     "output_type": "error",
     "traceback": [
      "\u001b[1;31m---------------------------------------------------------------------------\u001b[0m",
      "\u001b[1;31mValueError\u001b[0m                                Traceback (most recent call last)",
      "\u001b[1;32m~\\AppData\\Local\\Temp\\ipykernel_31404\\4175310964.py\u001b[0m in \u001b[0;36m<module>\u001b[1;34m\u001b[0m\n\u001b[0;32m      1\u001b[0m \u001b[1;31m#Any time we have bathrooms greater than bedroom remove those outliers.\u001b[0m\u001b[1;33m\u001b[0m\u001b[1;33m\u001b[0m\u001b[0m\n\u001b[1;32m----> 2\u001b[1;33m \u001b[0mdf4\u001b[0m\u001b[1;33m[\u001b[0m\u001b[0mdf4\u001b[0m\u001b[1;33m.\u001b[0m\u001b[0mBathrooms\u001b[0m\u001b[1;33m>\u001b[0m\u001b[0mdf3\u001b[0m\u001b[1;33m.\u001b[0m\u001b[0mBedrooms\u001b[0m\u001b[1;33m]\u001b[0m\u001b[1;33m\u001b[0m\u001b[1;33m\u001b[0m\u001b[0m\n\u001b[0m",
      "\u001b[1;32m~\\anaconda3\\lib\\site-packages\\pandas\\core\\ops\\common.py\u001b[0m in \u001b[0;36mnew_method\u001b[1;34m(self, other)\u001b[0m\n\u001b[0;32m     68\u001b[0m         \u001b[0mother\u001b[0m \u001b[1;33m=\u001b[0m \u001b[0mitem_from_zerodim\u001b[0m\u001b[1;33m(\u001b[0m\u001b[0mother\u001b[0m\u001b[1;33m)\u001b[0m\u001b[1;33m\u001b[0m\u001b[1;33m\u001b[0m\u001b[0m\n\u001b[0;32m     69\u001b[0m \u001b[1;33m\u001b[0m\u001b[0m\n\u001b[1;32m---> 70\u001b[1;33m         \u001b[1;32mreturn\u001b[0m \u001b[0mmethod\u001b[0m\u001b[1;33m(\u001b[0m\u001b[0mself\u001b[0m\u001b[1;33m,\u001b[0m \u001b[0mother\u001b[0m\u001b[1;33m)\u001b[0m\u001b[1;33m\u001b[0m\u001b[1;33m\u001b[0m\u001b[0m\n\u001b[0m\u001b[0;32m     71\u001b[0m \u001b[1;33m\u001b[0m\u001b[0m\n\u001b[0;32m     72\u001b[0m     \u001b[1;32mreturn\u001b[0m \u001b[0mnew_method\u001b[0m\u001b[1;33m\u001b[0m\u001b[1;33m\u001b[0m\u001b[0m\n",
      "\u001b[1;32m~\\anaconda3\\lib\\site-packages\\pandas\\core\\arraylike.py\u001b[0m in \u001b[0;36m__gt__\u001b[1;34m(self, other)\u001b[0m\n\u001b[0;32m     54\u001b[0m     \u001b[1;33m@\u001b[0m\u001b[0munpack_zerodim_and_defer\u001b[0m\u001b[1;33m(\u001b[0m\u001b[1;34m\"__gt__\"\u001b[0m\u001b[1;33m)\u001b[0m\u001b[1;33m\u001b[0m\u001b[1;33m\u001b[0m\u001b[0m\n\u001b[0;32m     55\u001b[0m     \u001b[1;32mdef\u001b[0m \u001b[0m__gt__\u001b[0m\u001b[1;33m(\u001b[0m\u001b[0mself\u001b[0m\u001b[1;33m,\u001b[0m \u001b[0mother\u001b[0m\u001b[1;33m)\u001b[0m\u001b[1;33m:\u001b[0m\u001b[1;33m\u001b[0m\u001b[1;33m\u001b[0m\u001b[0m\n\u001b[1;32m---> 56\u001b[1;33m         \u001b[1;32mreturn\u001b[0m \u001b[0mself\u001b[0m\u001b[1;33m.\u001b[0m\u001b[0m_cmp_method\u001b[0m\u001b[1;33m(\u001b[0m\u001b[0mother\u001b[0m\u001b[1;33m,\u001b[0m \u001b[0moperator\u001b[0m\u001b[1;33m.\u001b[0m\u001b[0mgt\u001b[0m\u001b[1;33m)\u001b[0m\u001b[1;33m\u001b[0m\u001b[1;33m\u001b[0m\u001b[0m\n\u001b[0m\u001b[0;32m     57\u001b[0m \u001b[1;33m\u001b[0m\u001b[0m\n\u001b[0;32m     58\u001b[0m     \u001b[1;33m@\u001b[0m\u001b[0munpack_zerodim_and_defer\u001b[0m\u001b[1;33m(\u001b[0m\u001b[1;34m\"__ge__\"\u001b[0m\u001b[1;33m)\u001b[0m\u001b[1;33m\u001b[0m\u001b[1;33m\u001b[0m\u001b[0m\n",
      "\u001b[1;32m~\\anaconda3\\lib\\site-packages\\pandas\\core\\series.py\u001b[0m in \u001b[0;36m_cmp_method\u001b[1;34m(self, other, op)\u001b[0m\n\u001b[0;32m   5615\u001b[0m \u001b[1;33m\u001b[0m\u001b[0m\n\u001b[0;32m   5616\u001b[0m         \u001b[1;32mif\u001b[0m \u001b[0misinstance\u001b[0m\u001b[1;33m(\u001b[0m\u001b[0mother\u001b[0m\u001b[1;33m,\u001b[0m \u001b[0mSeries\u001b[0m\u001b[1;33m)\u001b[0m \u001b[1;32mand\u001b[0m \u001b[1;32mnot\u001b[0m \u001b[0mself\u001b[0m\u001b[1;33m.\u001b[0m\u001b[0m_indexed_same\u001b[0m\u001b[1;33m(\u001b[0m\u001b[0mother\u001b[0m\u001b[1;33m)\u001b[0m\u001b[1;33m:\u001b[0m\u001b[1;33m\u001b[0m\u001b[1;33m\u001b[0m\u001b[0m\n\u001b[1;32m-> 5617\u001b[1;33m             \u001b[1;32mraise\u001b[0m \u001b[0mValueError\u001b[0m\u001b[1;33m(\u001b[0m\u001b[1;34m\"Can only compare identically-labeled Series objects\"\u001b[0m\u001b[1;33m)\u001b[0m\u001b[1;33m\u001b[0m\u001b[1;33m\u001b[0m\u001b[0m\n\u001b[0m\u001b[0;32m   5618\u001b[0m \u001b[1;33m\u001b[0m\u001b[0m\n\u001b[0;32m   5619\u001b[0m         \u001b[0mlvalues\u001b[0m \u001b[1;33m=\u001b[0m \u001b[0mself\u001b[0m\u001b[1;33m.\u001b[0m\u001b[0m_values\u001b[0m\u001b[1;33m\u001b[0m\u001b[1;33m\u001b[0m\u001b[0m\n",
      "\u001b[1;31mValueError\u001b[0m: Can only compare identically-labeled Series objects"
     ]
    }
   ],
   "source": [
    "#Any time we have bathrooms greater than bedroom remove those outliers.\n",
    "df4[df4.Bathrooms>df4.Bedrooms]"
   ]
  },
  {
   "cell_type": "code",
   "execution_count": 115,
   "id": "575f9b45",
   "metadata": {},
   "outputs": [
    {
     "data": {
      "text/plain": [
       "(4823, 8)"
      ]
     },
     "execution_count": 115,
     "metadata": {},
     "output_type": "execute_result"
    }
   ],
   "source": [
    "df5=df4[df4.Bathrooms<=df4.Bedrooms]\n",
    "df5.shape"
   ]
  },
  {
   "cell_type": "code",
   "execution_count": 116,
   "id": "9f721a0c",
   "metadata": {},
   "outputs": [
    {
     "data": {
      "text/html": [
       "<div>\n",
       "<style scoped>\n",
       "    .dataframe tbody tr th:only-of-type {\n",
       "        vertical-align: middle;\n",
       "    }\n",
       "\n",
       "    .dataframe tbody tr th {\n",
       "        vertical-align: top;\n",
       "    }\n",
       "\n",
       "    .dataframe thead th {\n",
       "        text-align: right;\n",
       "    }\n",
       "</style>\n",
       "<table border=\"1\" class=\"dataframe\">\n",
       "  <thead>\n",
       "    <tr style=\"text-align: right;\">\n",
       "      <th></th>\n",
       "      <th>price</th>\n",
       "      <th>Address</th>\n",
       "      <th>area</th>\n",
       "      <th>Bedrooms</th>\n",
       "      <th>Bathrooms</th>\n",
       "      <th>neworold</th>\n",
       "      <th>type_of_building</th>\n",
       "      <th>Price_sqft</th>\n",
       "    </tr>\n",
       "  </thead>\n",
       "  <tbody>\n",
       "    <tr>\n",
       "      <th>0</th>\n",
       "      <td>47500000.0</td>\n",
       "      <td>Agripada</td>\n",
       "      <td>1400.0</td>\n",
       "      <td>2.0</td>\n",
       "      <td>2.0</td>\n",
       "      <td>Resale</td>\n",
       "      <td>Flat</td>\n",
       "      <td>33928.571429</td>\n",
       "    </tr>\n",
       "    <tr>\n",
       "      <th>1</th>\n",
       "      <td>76500000.0</td>\n",
       "      <td>Agripada</td>\n",
       "      <td>2000.0</td>\n",
       "      <td>4.0</td>\n",
       "      <td>4.0</td>\n",
       "      <td>New Property</td>\n",
       "      <td>Flat</td>\n",
       "      <td>38250.000000</td>\n",
       "    </tr>\n",
       "    <tr>\n",
       "      <th>2</th>\n",
       "      <td>42500000.0</td>\n",
       "      <td>Agripada</td>\n",
       "      <td>900.0</td>\n",
       "      <td>2.0</td>\n",
       "      <td>2.0</td>\n",
       "      <td>Resale</td>\n",
       "      <td>Individual House</td>\n",
       "      <td>47222.222222</td>\n",
       "    </tr>\n",
       "    <tr>\n",
       "      <th>3</th>\n",
       "      <td>55000000.0</td>\n",
       "      <td>Agripada</td>\n",
       "      <td>1200.0</td>\n",
       "      <td>3.0</td>\n",
       "      <td>3.0</td>\n",
       "      <td>Resale</td>\n",
       "      <td>Flat</td>\n",
       "      <td>45833.333333</td>\n",
       "    </tr>\n",
       "    <tr>\n",
       "      <th>5</th>\n",
       "      <td>40000000.0</td>\n",
       "      <td>Agripada</td>\n",
       "      <td>958.0</td>\n",
       "      <td>2.0</td>\n",
       "      <td>2.0</td>\n",
       "      <td>Resale</td>\n",
       "      <td>Flat</td>\n",
       "      <td>41753.653445</td>\n",
       "    </tr>\n",
       "  </tbody>\n",
       "</table>\n",
       "</div>"
      ],
      "text/plain": [
       "        price   Address    area  Bedrooms  Bathrooms      neworold  \\\n",
       "0  47500000.0  Agripada  1400.0       2.0        2.0        Resale   \n",
       "1  76500000.0  Agripada  2000.0       4.0        4.0  New Property   \n",
       "2  42500000.0  Agripada   900.0       2.0        2.0        Resale   \n",
       "3  55000000.0  Agripada  1200.0       3.0        3.0        Resale   \n",
       "5  40000000.0  Agripada   958.0       2.0        2.0        Resale   \n",
       "\n",
       "   type_of_building    Price_sqft  \n",
       "0              Flat  33928.571429  \n",
       "1              Flat  38250.000000  \n",
       "2  Individual House  47222.222222  \n",
       "3              Flat  45833.333333  \n",
       "5              Flat  41753.653445  "
      ]
     },
     "execution_count": 116,
     "metadata": {},
     "output_type": "execute_result"
    }
   ],
   "source": [
    "df5.head()"
   ]
  },
  {
   "cell_type": "code",
   "execution_count": 117,
   "id": "06fd78f0",
   "metadata": {},
   "outputs": [
    {
     "name": "stderr",
     "output_type": "stream",
     "text": [
      "C:\\Users\\bijoy\\AppData\\Local\\Temp\\ipykernel_31404\\2320642631.py:1: FutureWarning: Dropping of nuisance columns in DataFrame reductions (with 'numeric_only=None') is deprecated; in a future version this will raise TypeError.  Select only valid columns before calling the reduction.\n",
      "  df5.var()\n"
     ]
    },
    {
     "data": {
      "text/plain": [
       "price         4.506497e+14\n",
       "area          2.563263e+05\n",
       "Bedrooms      4.342590e-01\n",
       "Bathrooms     3.031753e-01\n",
       "Price_sqft    1.177932e+08\n",
       "dtype: float64"
      ]
     },
     "execution_count": 117,
     "metadata": {},
     "output_type": "execute_result"
    }
   ],
   "source": [
    "df5.var()"
   ]
  },
  {
   "cell_type": "code",
   "execution_count": 132,
   "id": "a832a7f7",
   "metadata": {},
   "outputs": [
    {
     "name": "stderr",
     "output_type": "stream",
     "text": [
      "C:\\Users\\bijoy\\AppData\\Local\\Temp\\ipykernel_31404\\1536041769.py:4: SettingWithCopyWarning: \n",
      "A value is trying to be set on a copy of a slice from a DataFrame.\n",
      "Try using .loc[row_indexer,col_indexer] = value instead\n",
      "\n",
      "See the caveats in the documentation: https://pandas.pydata.org/pandas-docs/stable/user_guide/indexing.html#returning-a-view-versus-a-copy\n",
      "  df5[\"neworold\"]=le.fit_transform(df5[\"neworold\"])\n",
      "C:\\Users\\bijoy\\AppData\\Local\\Temp\\ipykernel_31404\\1536041769.py:5: SettingWithCopyWarning: \n",
      "A value is trying to be set on a copy of a slice from a DataFrame.\n",
      "Try using .loc[row_indexer,col_indexer] = value instead\n",
      "\n",
      "See the caveats in the documentation: https://pandas.pydata.org/pandas-docs/stable/user_guide/indexing.html#returning-a-view-versus-a-copy\n",
      "  df5[\"type_of_building\"]=le.fit_transform(df5[\"type_of_building\"])\n"
     ]
    },
    {
     "data": {
      "text/html": [
       "<div>\n",
       "<style scoped>\n",
       "    .dataframe tbody tr th:only-of-type {\n",
       "        vertical-align: middle;\n",
       "    }\n",
       "\n",
       "    .dataframe tbody tr th {\n",
       "        vertical-align: top;\n",
       "    }\n",
       "\n",
       "    .dataframe thead th {\n",
       "        text-align: right;\n",
       "    }\n",
       "</style>\n",
       "<table border=\"1\" class=\"dataframe\">\n",
       "  <thead>\n",
       "    <tr style=\"text-align: right;\">\n",
       "      <th></th>\n",
       "      <th>price</th>\n",
       "      <th>Address</th>\n",
       "      <th>area</th>\n",
       "      <th>Bedrooms</th>\n",
       "      <th>Bathrooms</th>\n",
       "      <th>neworold</th>\n",
       "      <th>type_of_building</th>\n",
       "      <th>Price_sqft</th>\n",
       "    </tr>\n",
       "  </thead>\n",
       "  <tbody>\n",
       "    <tr>\n",
       "      <th>0</th>\n",
       "      <td>47500000.0</td>\n",
       "      <td>Agripada</td>\n",
       "      <td>1400.0</td>\n",
       "      <td>2.0</td>\n",
       "      <td>2.0</td>\n",
       "      <td>1</td>\n",
       "      <td>0</td>\n",
       "      <td>33928.571429</td>\n",
       "    </tr>\n",
       "    <tr>\n",
       "      <th>1</th>\n",
       "      <td>76500000.0</td>\n",
       "      <td>Agripada</td>\n",
       "      <td>2000.0</td>\n",
       "      <td>4.0</td>\n",
       "      <td>4.0</td>\n",
       "      <td>0</td>\n",
       "      <td>0</td>\n",
       "      <td>38250.000000</td>\n",
       "    </tr>\n",
       "    <tr>\n",
       "      <th>2</th>\n",
       "      <td>42500000.0</td>\n",
       "      <td>Agripada</td>\n",
       "      <td>900.0</td>\n",
       "      <td>2.0</td>\n",
       "      <td>2.0</td>\n",
       "      <td>1</td>\n",
       "      <td>1</td>\n",
       "      <td>47222.222222</td>\n",
       "    </tr>\n",
       "    <tr>\n",
       "      <th>3</th>\n",
       "      <td>55000000.0</td>\n",
       "      <td>Agripada</td>\n",
       "      <td>1200.0</td>\n",
       "      <td>3.0</td>\n",
       "      <td>3.0</td>\n",
       "      <td>1</td>\n",
       "      <td>0</td>\n",
       "      <td>45833.333333</td>\n",
       "    </tr>\n",
       "    <tr>\n",
       "      <th>5</th>\n",
       "      <td>40000000.0</td>\n",
       "      <td>Agripada</td>\n",
       "      <td>958.0</td>\n",
       "      <td>2.0</td>\n",
       "      <td>2.0</td>\n",
       "      <td>1</td>\n",
       "      <td>0</td>\n",
       "      <td>41753.653445</td>\n",
       "    </tr>\n",
       "  </tbody>\n",
       "</table>\n",
       "</div>"
      ],
      "text/plain": [
       "        price   Address    area  Bedrooms  Bathrooms  neworold  \\\n",
       "0  47500000.0  Agripada  1400.0       2.0        2.0         1   \n",
       "1  76500000.0  Agripada  2000.0       4.0        4.0         0   \n",
       "2  42500000.0  Agripada   900.0       2.0        2.0         1   \n",
       "3  55000000.0  Agripada  1200.0       3.0        3.0         1   \n",
       "5  40000000.0  Agripada   958.0       2.0        2.0         1   \n",
       "\n",
       "   type_of_building    Price_sqft  \n",
       "0                 0  33928.571429  \n",
       "1                 0  38250.000000  \n",
       "2                 1  47222.222222  \n",
       "3                 0  45833.333333  \n",
       "5                 0  41753.653445  "
      ]
     },
     "execution_count": 132,
     "metadata": {},
     "output_type": "execute_result"
    }
   ],
   "source": [
    "#converting othe categorical column into numerical using label encoding\n",
    "from sklearn.preprocessing import LabelEncoder\n",
    "le=LabelEncoder()\n",
    "df5[\"neworold\"]=le.fit_transform(df5[\"neworold\"])\n",
    "df5[\"type_of_building\"]=le.fit_transform(df5[\"type_of_building\"])\n",
    "df5.head()"
   ]
  },
  {
   "cell_type": "code",
   "execution_count": 133,
   "id": "1d30fb0b",
   "metadata": {},
   "outputs": [
    {
     "data": {
      "text/html": [
       "<div>\n",
       "<style scoped>\n",
       "    .dataframe tbody tr th:only-of-type {\n",
       "        vertical-align: middle;\n",
       "    }\n",
       "\n",
       "    .dataframe tbody tr th {\n",
       "        vertical-align: top;\n",
       "    }\n",
       "\n",
       "    .dataframe thead th {\n",
       "        text-align: right;\n",
       "    }\n",
       "</style>\n",
       "<table border=\"1\" class=\"dataframe\">\n",
       "  <thead>\n",
       "    <tr style=\"text-align: right;\">\n",
       "      <th></th>\n",
       "      <th>price</th>\n",
       "      <th>Address</th>\n",
       "      <th>area</th>\n",
       "      <th>Bedrooms</th>\n",
       "      <th>Bathrooms</th>\n",
       "      <th>neworold</th>\n",
       "      <th>type_of_building</th>\n",
       "      <th>Price_sqft</th>\n",
       "    </tr>\n",
       "  </thead>\n",
       "  <tbody>\n",
       "    <tr>\n",
       "      <th>0</th>\n",
       "      <td>47500000.0</td>\n",
       "      <td>Agripada</td>\n",
       "      <td>1400.0</td>\n",
       "      <td>2.0</td>\n",
       "      <td>2.0</td>\n",
       "      <td>1</td>\n",
       "      <td>0</td>\n",
       "      <td>33928.571429</td>\n",
       "    </tr>\n",
       "    <tr>\n",
       "      <th>1</th>\n",
       "      <td>76500000.0</td>\n",
       "      <td>Agripada</td>\n",
       "      <td>2000.0</td>\n",
       "      <td>4.0</td>\n",
       "      <td>4.0</td>\n",
       "      <td>0</td>\n",
       "      <td>0</td>\n",
       "      <td>38250.000000</td>\n",
       "    </tr>\n",
       "    <tr>\n",
       "      <th>2</th>\n",
       "      <td>42500000.0</td>\n",
       "      <td>Agripada</td>\n",
       "      <td>900.0</td>\n",
       "      <td>2.0</td>\n",
       "      <td>2.0</td>\n",
       "      <td>1</td>\n",
       "      <td>1</td>\n",
       "      <td>47222.222222</td>\n",
       "    </tr>\n",
       "    <tr>\n",
       "      <th>3</th>\n",
       "      <td>55000000.0</td>\n",
       "      <td>Agripada</td>\n",
       "      <td>1200.0</td>\n",
       "      <td>3.0</td>\n",
       "      <td>3.0</td>\n",
       "      <td>1</td>\n",
       "      <td>0</td>\n",
       "      <td>45833.333333</td>\n",
       "    </tr>\n",
       "    <tr>\n",
       "      <th>5</th>\n",
       "      <td>40000000.0</td>\n",
       "      <td>Agripada</td>\n",
       "      <td>958.0</td>\n",
       "      <td>2.0</td>\n",
       "      <td>2.0</td>\n",
       "      <td>1</td>\n",
       "      <td>0</td>\n",
       "      <td>41753.653445</td>\n",
       "    </tr>\n",
       "  </tbody>\n",
       "</table>\n",
       "</div>"
      ],
      "text/plain": [
       "        price   Address    area  Bedrooms  Bathrooms  neworold  \\\n",
       "0  47500000.0  Agripada  1400.0       2.0        2.0         1   \n",
       "1  76500000.0  Agripada  2000.0       4.0        4.0         0   \n",
       "2  42500000.0  Agripada   900.0       2.0        2.0         1   \n",
       "3  55000000.0  Agripada  1200.0       3.0        3.0         1   \n",
       "5  40000000.0  Agripada   958.0       2.0        2.0         1   \n",
       "\n",
       "   type_of_building    Price_sqft  \n",
       "0                 0  33928.571429  \n",
       "1                 0  38250.000000  \n",
       "2                 1  47222.222222  \n",
       "3                 0  45833.333333  \n",
       "5                 0  41753.653445  "
      ]
     },
     "execution_count": 133,
     "metadata": {},
     "output_type": "execute_result"
    }
   ],
   "source": [
    "df5.head()"
   ]
  },
  {
   "cell_type": "markdown",
   "id": "7687005d",
   "metadata": {},
   "source": [
    "### Converting Address column from a categorical to numerical data"
   ]
  },
  {
   "cell_type": "code",
   "execution_count": 134,
   "id": "4e00a3bd",
   "metadata": {},
   "outputs": [
    {
     "data": {
      "text/plain": [
       "array(['Agripada', 'Ambernath', 'Andheri East', 'Andheri West',\n",
       "       'Bandra East', 'Bandra Kurla Complex', 'Bandra West',\n",
       "       'Bhakti Park', 'Bhandup', 'Bhandup West', 'Bhayandar East',\n",
       "       'Bhayandar West', 'Borivali East', 'Borivali West', 'Byculla',\n",
       "       'Chandivali', 'Charkop', 'Chembur', 'Chembur East', 'Cuffe Parade',\n",
       "       'D.N. Nagar', 'Dadar East', 'Dadar West', 'Dahanukar Wadi',\n",
       "       'Dahisar East', 'Dahisar West', 'Deonar', 'Film City Road',\n",
       "       'Ghatkopar', 'Ghatkopar East', 'Ghatkopar West', 'Gokuldham',\n",
       "       'Gorai 2', 'Goregaon East', 'Goregaon West', 'Grant Road',\n",
       "       'JVLR-Jogeshwari Vikhroli Link Road', 'JVPD Scheme',\n",
       "       'Jankalyan Nagar', 'Jogeshwari East', 'Jogeshwari West', 'Juhu',\n",
       "       'Kalina', 'Kalyan', 'Kandivali East', 'Kandivali West',\n",
       "       'Kanjurmarg East', 'Kanjurmarg West', 'Khar West', 'Kurla East',\n",
       "       'Kurla West', 'Link Road', 'Lokhandwala Complex',\n",
       "       'Lokhandwala Twp', 'Lower Parel', 'Mahavir Nagar', 'Mahim',\n",
       "       'Mahim West', 'Malabar Hill', 'Malad East', 'Malad West',\n",
       "       'Malvani', 'Marol', 'Matunga East', 'Matunga West', 'Mazgaon',\n",
       "       'Mira Bhayandar', 'Mira Road', 'Mira Road East', 'Mulund',\n",
       "       'Mulund East', 'Mulund West', 'Mumbai Central', 'Naigaon East',\n",
       "       'Nala Sopara', 'Nalasopara East', 'Nalasopara West',\n",
       "       'Napean Sea Road', 'Navi Mumbai-Khargar-Panvel-Ulwe', 'Oshiwara',\n",
       "       'Other location', 'Pali Hill', 'Parel', 'Powai', 'Prabhadevi',\n",
       "       'Santacruz East', 'Santacruz West', 'Sector 8 Charkop', 'Sewri',\n",
       "       'Sindhi Society Chembur', 'Sion', 'Sion East', 'Tardeo',\n",
       "       'Thakur Complex', 'Thakur Village', 'Thane',\n",
       "       'Thane-Kalyan-Dombivli', 'Tilak Nagar - Harbour Line',\n",
       "       'Ulhasnagar', 'Vakola', 'Vasai', 'Vasai East', 'Vasai West',\n",
       "       'Veera Desai Road', 'Versova', 'Vikhroli East', 'Vikhroli West',\n",
       "       'Vile Parle East', 'Vile Parle West', 'Vinay Nagar', 'Virar',\n",
       "       'Virar East', 'Virar West', 'Wadala', 'Wadala East', 'Wadala West',\n",
       "       'Walkeshwar', 'Worli', 'Yari Road'], dtype=object)"
      ]
     },
     "execution_count": 134,
     "metadata": {},
     "output_type": "execute_result"
    }
   ],
   "source": [
    "df5.Address.unique()"
   ]
  },
  {
   "cell_type": "code",
   "execution_count": 135,
   "id": "468f4bb5",
   "metadata": {},
   "outputs": [
    {
     "data": {
      "text/html": [
       "<div>\n",
       "<style scoped>\n",
       "    .dataframe tbody tr th:only-of-type {\n",
       "        vertical-align: middle;\n",
       "    }\n",
       "\n",
       "    .dataframe tbody tr th {\n",
       "        vertical-align: top;\n",
       "    }\n",
       "\n",
       "    .dataframe thead th {\n",
       "        text-align: right;\n",
       "    }\n",
       "</style>\n",
       "<table border=\"1\" class=\"dataframe\">\n",
       "  <thead>\n",
       "    <tr style=\"text-align: right;\">\n",
       "      <th></th>\n",
       "      <th>Agripada</th>\n",
       "      <th>Ambernath</th>\n",
       "      <th>Andheri East</th>\n",
       "      <th>Andheri West</th>\n",
       "      <th>Bandra East</th>\n",
       "      <th>Bandra Kurla Complex</th>\n",
       "      <th>Bandra West</th>\n",
       "      <th>Bhakti Park</th>\n",
       "      <th>Bhandup</th>\n",
       "      <th>Bhandup West</th>\n",
       "      <th>Bhayandar East</th>\n",
       "      <th>Bhayandar West</th>\n",
       "      <th>Borivali East</th>\n",
       "      <th>Borivali West</th>\n",
       "      <th>Byculla</th>\n",
       "      <th>...</th>\n",
       "      <th>Versova</th>\n",
       "      <th>Vikhroli East</th>\n",
       "      <th>Vikhroli West</th>\n",
       "      <th>Vile Parle East</th>\n",
       "      <th>Vile Parle West</th>\n",
       "      <th>Vinay Nagar</th>\n",
       "      <th>Virar</th>\n",
       "      <th>Virar East</th>\n",
       "      <th>Virar West</th>\n",
       "      <th>Wadala</th>\n",
       "      <th>Wadala East</th>\n",
       "      <th>Wadala West</th>\n",
       "      <th>Walkeshwar</th>\n",
       "      <th>Worli</th>\n",
       "      <th>Yari Road</th>\n",
       "    </tr>\n",
       "  </thead>\n",
       "  <tbody>\n",
       "    <tr>\n",
       "      <th>0</th>\n",
       "      <td>1</td>\n",
       "      <td>0</td>\n",
       "      <td>0</td>\n",
       "      <td>0</td>\n",
       "      <td>0</td>\n",
       "      <td>0</td>\n",
       "      <td>0</td>\n",
       "      <td>0</td>\n",
       "      <td>0</td>\n",
       "      <td>0</td>\n",
       "      <td>0</td>\n",
       "      <td>0</td>\n",
       "      <td>0</td>\n",
       "      <td>0</td>\n",
       "      <td>0</td>\n",
       "      <td>...</td>\n",
       "      <td>0</td>\n",
       "      <td>0</td>\n",
       "      <td>0</td>\n",
       "      <td>0</td>\n",
       "      <td>0</td>\n",
       "      <td>0</td>\n",
       "      <td>0</td>\n",
       "      <td>0</td>\n",
       "      <td>0</td>\n",
       "      <td>0</td>\n",
       "      <td>0</td>\n",
       "      <td>0</td>\n",
       "      <td>0</td>\n",
       "      <td>0</td>\n",
       "      <td>0</td>\n",
       "    </tr>\n",
       "    <tr>\n",
       "      <th>1</th>\n",
       "      <td>1</td>\n",
       "      <td>0</td>\n",
       "      <td>0</td>\n",
       "      <td>0</td>\n",
       "      <td>0</td>\n",
       "      <td>0</td>\n",
       "      <td>0</td>\n",
       "      <td>0</td>\n",
       "      <td>0</td>\n",
       "      <td>0</td>\n",
       "      <td>0</td>\n",
       "      <td>0</td>\n",
       "      <td>0</td>\n",
       "      <td>0</td>\n",
       "      <td>0</td>\n",
       "      <td>...</td>\n",
       "      <td>0</td>\n",
       "      <td>0</td>\n",
       "      <td>0</td>\n",
       "      <td>0</td>\n",
       "      <td>0</td>\n",
       "      <td>0</td>\n",
       "      <td>0</td>\n",
       "      <td>0</td>\n",
       "      <td>0</td>\n",
       "      <td>0</td>\n",
       "      <td>0</td>\n",
       "      <td>0</td>\n",
       "      <td>0</td>\n",
       "      <td>0</td>\n",
       "      <td>0</td>\n",
       "    </tr>\n",
       "    <tr>\n",
       "      <th>2</th>\n",
       "      <td>1</td>\n",
       "      <td>0</td>\n",
       "      <td>0</td>\n",
       "      <td>0</td>\n",
       "      <td>0</td>\n",
       "      <td>0</td>\n",
       "      <td>0</td>\n",
       "      <td>0</td>\n",
       "      <td>0</td>\n",
       "      <td>0</td>\n",
       "      <td>0</td>\n",
       "      <td>0</td>\n",
       "      <td>0</td>\n",
       "      <td>0</td>\n",
       "      <td>0</td>\n",
       "      <td>...</td>\n",
       "      <td>0</td>\n",
       "      <td>0</td>\n",
       "      <td>0</td>\n",
       "      <td>0</td>\n",
       "      <td>0</td>\n",
       "      <td>0</td>\n",
       "      <td>0</td>\n",
       "      <td>0</td>\n",
       "      <td>0</td>\n",
       "      <td>0</td>\n",
       "      <td>0</td>\n",
       "      <td>0</td>\n",
       "      <td>0</td>\n",
       "      <td>0</td>\n",
       "      <td>0</td>\n",
       "    </tr>\n",
       "    <tr>\n",
       "      <th>3</th>\n",
       "      <td>1</td>\n",
       "      <td>0</td>\n",
       "      <td>0</td>\n",
       "      <td>0</td>\n",
       "      <td>0</td>\n",
       "      <td>0</td>\n",
       "      <td>0</td>\n",
       "      <td>0</td>\n",
       "      <td>0</td>\n",
       "      <td>0</td>\n",
       "      <td>0</td>\n",
       "      <td>0</td>\n",
       "      <td>0</td>\n",
       "      <td>0</td>\n",
       "      <td>0</td>\n",
       "      <td>...</td>\n",
       "      <td>0</td>\n",
       "      <td>0</td>\n",
       "      <td>0</td>\n",
       "      <td>0</td>\n",
       "      <td>0</td>\n",
       "      <td>0</td>\n",
       "      <td>0</td>\n",
       "      <td>0</td>\n",
       "      <td>0</td>\n",
       "      <td>0</td>\n",
       "      <td>0</td>\n",
       "      <td>0</td>\n",
       "      <td>0</td>\n",
       "      <td>0</td>\n",
       "      <td>0</td>\n",
       "    </tr>\n",
       "    <tr>\n",
       "      <th>5</th>\n",
       "      <td>1</td>\n",
       "      <td>0</td>\n",
       "      <td>0</td>\n",
       "      <td>0</td>\n",
       "      <td>0</td>\n",
       "      <td>0</td>\n",
       "      <td>0</td>\n",
       "      <td>0</td>\n",
       "      <td>0</td>\n",
       "      <td>0</td>\n",
       "      <td>0</td>\n",
       "      <td>0</td>\n",
       "      <td>0</td>\n",
       "      <td>0</td>\n",
       "      <td>0</td>\n",
       "      <td>...</td>\n",
       "      <td>0</td>\n",
       "      <td>0</td>\n",
       "      <td>0</td>\n",
       "      <td>0</td>\n",
       "      <td>0</td>\n",
       "      <td>0</td>\n",
       "      <td>0</td>\n",
       "      <td>0</td>\n",
       "      <td>0</td>\n",
       "      <td>0</td>\n",
       "      <td>0</td>\n",
       "      <td>0</td>\n",
       "      <td>0</td>\n",
       "      <td>0</td>\n",
       "      <td>0</td>\n",
       "    </tr>\n",
       "  </tbody>\n",
       "</table>\n",
       "<p>5 rows × 119 columns</p>\n",
       "</div>"
      ],
      "text/plain": [
       "   Agripada  Ambernath  Andheri East  Andheri West  Bandra East  \\\n",
       "0         1          0             0             0            0   \n",
       "1         1          0             0             0            0   \n",
       "2         1          0             0             0            0   \n",
       "3         1          0             0             0            0   \n",
       "5         1          0             0             0            0   \n",
       "\n",
       "   Bandra Kurla Complex  Bandra West  Bhakti Park  Bhandup  Bhandup West  \\\n",
       "0                     0            0            0        0             0   \n",
       "1                     0            0            0        0             0   \n",
       "2                     0            0            0        0             0   \n",
       "3                     0            0            0        0             0   \n",
       "5                     0            0            0        0             0   \n",
       "\n",
       "   Bhayandar East  Bhayandar West  Borivali East  Borivali West  Byculla  ...  \\\n",
       "0               0               0              0              0        0  ...   \n",
       "1               0               0              0              0        0  ...   \n",
       "2               0               0              0              0        0  ...   \n",
       "3               0               0              0              0        0  ...   \n",
       "5               0               0              0              0        0  ...   \n",
       "\n",
       "   Versova  Vikhroli East  Vikhroli West  Vile Parle East  Vile Parle West  \\\n",
       "0        0              0              0                0                0   \n",
       "1        0              0              0                0                0   \n",
       "2        0              0              0                0                0   \n",
       "3        0              0              0                0                0   \n",
       "5        0              0              0                0                0   \n",
       "\n",
       "   Vinay Nagar  Virar  Virar East  Virar West  Wadala  Wadala East  \\\n",
       "0            0      0           0           0       0            0   \n",
       "1            0      0           0           0       0            0   \n",
       "2            0      0           0           0       0            0   \n",
       "3            0      0           0           0       0            0   \n",
       "5            0      0           0           0       0            0   \n",
       "\n",
       "   Wadala West  Walkeshwar  Worli  Yari Road  \n",
       "0            0           0      0          0  \n",
       "1            0           0      0          0  \n",
       "2            0           0      0          0  \n",
       "3            0           0      0          0  \n",
       "5            0           0      0          0  \n",
       "\n",
       "[5 rows x 119 columns]"
      ]
     },
     "execution_count": 135,
     "metadata": {},
     "output_type": "execute_result"
    }
   ],
   "source": [
    "#Location is a categorical column, need to convert it to a numerical using one hot encoding ---> dummies.\n",
    "dummies = pd.get_dummies(df5.Address)\n",
    "dummies.head(5)"
   ]
  },
  {
   "cell_type": "code",
   "execution_count": 136,
   "id": "3703a9c3",
   "metadata": {},
   "outputs": [
    {
     "data": {
      "text/html": [
       "<div>\n",
       "<style scoped>\n",
       "    .dataframe tbody tr th:only-of-type {\n",
       "        vertical-align: middle;\n",
       "    }\n",
       "\n",
       "    .dataframe tbody tr th {\n",
       "        vertical-align: top;\n",
       "    }\n",
       "\n",
       "    .dataframe thead th {\n",
       "        text-align: right;\n",
       "    }\n",
       "</style>\n",
       "<table border=\"1\" class=\"dataframe\">\n",
       "  <thead>\n",
       "    <tr style=\"text-align: right;\">\n",
       "      <th></th>\n",
       "      <th>price</th>\n",
       "      <th>Address</th>\n",
       "      <th>area</th>\n",
       "      <th>Bedrooms</th>\n",
       "      <th>Bathrooms</th>\n",
       "      <th>neworold</th>\n",
       "      <th>type_of_building</th>\n",
       "      <th>Price_sqft</th>\n",
       "      <th>Agripada</th>\n",
       "      <th>Ambernath</th>\n",
       "      <th>Andheri East</th>\n",
       "      <th>Andheri West</th>\n",
       "      <th>Bandra East</th>\n",
       "      <th>Bandra Kurla Complex</th>\n",
       "      <th>Bandra West</th>\n",
       "      <th>...</th>\n",
       "      <th>Versova</th>\n",
       "      <th>Vikhroli East</th>\n",
       "      <th>Vikhroli West</th>\n",
       "      <th>Vile Parle East</th>\n",
       "      <th>Vile Parle West</th>\n",
       "      <th>Vinay Nagar</th>\n",
       "      <th>Virar</th>\n",
       "      <th>Virar East</th>\n",
       "      <th>Virar West</th>\n",
       "      <th>Wadala</th>\n",
       "      <th>Wadala East</th>\n",
       "      <th>Wadala West</th>\n",
       "      <th>Walkeshwar</th>\n",
       "      <th>Worli</th>\n",
       "      <th>Yari Road</th>\n",
       "    </tr>\n",
       "  </thead>\n",
       "  <tbody>\n",
       "    <tr>\n",
       "      <th>0</th>\n",
       "      <td>47500000.0</td>\n",
       "      <td>Agripada</td>\n",
       "      <td>1400.0</td>\n",
       "      <td>2.0</td>\n",
       "      <td>2.0</td>\n",
       "      <td>1</td>\n",
       "      <td>0</td>\n",
       "      <td>33928.571429</td>\n",
       "      <td>1</td>\n",
       "      <td>0</td>\n",
       "      <td>0</td>\n",
       "      <td>0</td>\n",
       "      <td>0</td>\n",
       "      <td>0</td>\n",
       "      <td>0</td>\n",
       "      <td>...</td>\n",
       "      <td>0</td>\n",
       "      <td>0</td>\n",
       "      <td>0</td>\n",
       "      <td>0</td>\n",
       "      <td>0</td>\n",
       "      <td>0</td>\n",
       "      <td>0</td>\n",
       "      <td>0</td>\n",
       "      <td>0</td>\n",
       "      <td>0</td>\n",
       "      <td>0</td>\n",
       "      <td>0</td>\n",
       "      <td>0</td>\n",
       "      <td>0</td>\n",
       "      <td>0</td>\n",
       "    </tr>\n",
       "    <tr>\n",
       "      <th>1</th>\n",
       "      <td>76500000.0</td>\n",
       "      <td>Agripada</td>\n",
       "      <td>2000.0</td>\n",
       "      <td>4.0</td>\n",
       "      <td>4.0</td>\n",
       "      <td>0</td>\n",
       "      <td>0</td>\n",
       "      <td>38250.000000</td>\n",
       "      <td>1</td>\n",
       "      <td>0</td>\n",
       "      <td>0</td>\n",
       "      <td>0</td>\n",
       "      <td>0</td>\n",
       "      <td>0</td>\n",
       "      <td>0</td>\n",
       "      <td>...</td>\n",
       "      <td>0</td>\n",
       "      <td>0</td>\n",
       "      <td>0</td>\n",
       "      <td>0</td>\n",
       "      <td>0</td>\n",
       "      <td>0</td>\n",
       "      <td>0</td>\n",
       "      <td>0</td>\n",
       "      <td>0</td>\n",
       "      <td>0</td>\n",
       "      <td>0</td>\n",
       "      <td>0</td>\n",
       "      <td>0</td>\n",
       "      <td>0</td>\n",
       "      <td>0</td>\n",
       "    </tr>\n",
       "    <tr>\n",
       "      <th>2</th>\n",
       "      <td>42500000.0</td>\n",
       "      <td>Agripada</td>\n",
       "      <td>900.0</td>\n",
       "      <td>2.0</td>\n",
       "      <td>2.0</td>\n",
       "      <td>1</td>\n",
       "      <td>1</td>\n",
       "      <td>47222.222222</td>\n",
       "      <td>1</td>\n",
       "      <td>0</td>\n",
       "      <td>0</td>\n",
       "      <td>0</td>\n",
       "      <td>0</td>\n",
       "      <td>0</td>\n",
       "      <td>0</td>\n",
       "      <td>...</td>\n",
       "      <td>0</td>\n",
       "      <td>0</td>\n",
       "      <td>0</td>\n",
       "      <td>0</td>\n",
       "      <td>0</td>\n",
       "      <td>0</td>\n",
       "      <td>0</td>\n",
       "      <td>0</td>\n",
       "      <td>0</td>\n",
       "      <td>0</td>\n",
       "      <td>0</td>\n",
       "      <td>0</td>\n",
       "      <td>0</td>\n",
       "      <td>0</td>\n",
       "      <td>0</td>\n",
       "    </tr>\n",
       "  </tbody>\n",
       "</table>\n",
       "<p>3 rows × 126 columns</p>\n",
       "</div>"
      ],
      "text/plain": [
       "        price   Address    area  Bedrooms  Bathrooms  neworold  \\\n",
       "0  47500000.0  Agripada  1400.0       2.0        2.0         1   \n",
       "1  76500000.0  Agripada  2000.0       4.0        4.0         0   \n",
       "2  42500000.0  Agripada   900.0       2.0        2.0         1   \n",
       "\n",
       "   type_of_building    Price_sqft  Agripada  Ambernath  Andheri East  \\\n",
       "0                 0  33928.571429         1          0             0   \n",
       "1                 0  38250.000000         1          0             0   \n",
       "2                 1  47222.222222         1          0             0   \n",
       "\n",
       "   Andheri West  Bandra East  Bandra Kurla Complex  Bandra West  ...  Versova  \\\n",
       "0             0            0                     0            0  ...        0   \n",
       "1             0            0                     0            0  ...        0   \n",
       "2             0            0                     0            0  ...        0   \n",
       "\n",
       "   Vikhroli East  Vikhroli West  Vile Parle East  Vile Parle West  \\\n",
       "0              0              0                0                0   \n",
       "1              0              0                0                0   \n",
       "2              0              0                0                0   \n",
       "\n",
       "   Vinay Nagar  Virar  Virar East  Virar West  Wadala  Wadala East  \\\n",
       "0            0      0           0           0       0            0   \n",
       "1            0      0           0           0       0            0   \n",
       "2            0      0           0           0       0            0   \n",
       "\n",
       "   Wadala West  Walkeshwar  Worli  Yari Road  \n",
       "0            0           0      0          0  \n",
       "1            0           0      0          0  \n",
       "2            0           0      0          0  \n",
       "\n",
       "[3 rows x 126 columns]"
      ]
     },
     "execution_count": 136,
     "metadata": {},
     "output_type": "execute_result"
    }
   ],
   "source": [
    "# Getting rid of the dummy variabe trap. Dropping the categorical column for 'Other Location' type.\n",
    "df6 = pd.concat([df5,dummies.drop('Other location',axis ='columns')],axis ='columns')\n",
    "df6.head(3)"
   ]
  },
  {
   "cell_type": "code",
   "execution_count": 137,
   "id": "f18dbda9",
   "metadata": {},
   "outputs": [
    {
     "data": {
      "text/plain": [
       "Index(['price', 'Address', 'area', 'Bedrooms', 'Bathrooms', 'neworold',\n",
       "       'type_of_building', 'Price_sqft', 'Agripada', 'Ambernath',\n",
       "       ...\n",
       "       'Vinay Nagar', 'Virar', 'Virar East', 'Virar West', 'Wadala',\n",
       "       'Wadala East', 'Wadala West', 'Walkeshwar', 'Worli', 'Yari Road'],\n",
       "      dtype='object', length=126)"
      ]
     },
     "execution_count": 137,
     "metadata": {},
     "output_type": "execute_result"
    }
   ],
   "source": [
    "df6.columns"
   ]
  },
  {
   "cell_type": "code",
   "execution_count": 138,
   "id": "6e2f5df7",
   "metadata": {},
   "outputs": [],
   "source": [
    "# X is our independent variables. Price is what we want to predict based on total_sqft, bathrooms and bedrooms.\n",
    "X=df6.drop([\"price\",\"Address\",\"Price_sqft\"],axis=1)"
   ]
  },
  {
   "cell_type": "code",
   "execution_count": 139,
   "id": "19c62541",
   "metadata": {},
   "outputs": [
    {
     "data": {
      "text/html": [
       "<div>\n",
       "<style scoped>\n",
       "    .dataframe tbody tr th:only-of-type {\n",
       "        vertical-align: middle;\n",
       "    }\n",
       "\n",
       "    .dataframe tbody tr th {\n",
       "        vertical-align: top;\n",
       "    }\n",
       "\n",
       "    .dataframe thead th {\n",
       "        text-align: right;\n",
       "    }\n",
       "</style>\n",
       "<table border=\"1\" class=\"dataframe\">\n",
       "  <thead>\n",
       "    <tr style=\"text-align: right;\">\n",
       "      <th></th>\n",
       "      <th>area</th>\n",
       "      <th>Bedrooms</th>\n",
       "      <th>Bathrooms</th>\n",
       "      <th>neworold</th>\n",
       "      <th>type_of_building</th>\n",
       "      <th>Agripada</th>\n",
       "      <th>Ambernath</th>\n",
       "      <th>Andheri East</th>\n",
       "      <th>Andheri West</th>\n",
       "      <th>Bandra East</th>\n",
       "      <th>Bandra Kurla Complex</th>\n",
       "      <th>Bandra West</th>\n",
       "      <th>Bhakti Park</th>\n",
       "      <th>Bhandup</th>\n",
       "      <th>Bhandup West</th>\n",
       "      <th>...</th>\n",
       "      <th>Versova</th>\n",
       "      <th>Vikhroli East</th>\n",
       "      <th>Vikhroli West</th>\n",
       "      <th>Vile Parle East</th>\n",
       "      <th>Vile Parle West</th>\n",
       "      <th>Vinay Nagar</th>\n",
       "      <th>Virar</th>\n",
       "      <th>Virar East</th>\n",
       "      <th>Virar West</th>\n",
       "      <th>Wadala</th>\n",
       "      <th>Wadala East</th>\n",
       "      <th>Wadala West</th>\n",
       "      <th>Walkeshwar</th>\n",
       "      <th>Worli</th>\n",
       "      <th>Yari Road</th>\n",
       "    </tr>\n",
       "  </thead>\n",
       "  <tbody>\n",
       "    <tr>\n",
       "      <th>0</th>\n",
       "      <td>1400.0</td>\n",
       "      <td>2.0</td>\n",
       "      <td>2.0</td>\n",
       "      <td>1</td>\n",
       "      <td>0</td>\n",
       "      <td>1</td>\n",
       "      <td>0</td>\n",
       "      <td>0</td>\n",
       "      <td>0</td>\n",
       "      <td>0</td>\n",
       "      <td>0</td>\n",
       "      <td>0</td>\n",
       "      <td>0</td>\n",
       "      <td>0</td>\n",
       "      <td>0</td>\n",
       "      <td>...</td>\n",
       "      <td>0</td>\n",
       "      <td>0</td>\n",
       "      <td>0</td>\n",
       "      <td>0</td>\n",
       "      <td>0</td>\n",
       "      <td>0</td>\n",
       "      <td>0</td>\n",
       "      <td>0</td>\n",
       "      <td>0</td>\n",
       "      <td>0</td>\n",
       "      <td>0</td>\n",
       "      <td>0</td>\n",
       "      <td>0</td>\n",
       "      <td>0</td>\n",
       "      <td>0</td>\n",
       "    </tr>\n",
       "    <tr>\n",
       "      <th>1</th>\n",
       "      <td>2000.0</td>\n",
       "      <td>4.0</td>\n",
       "      <td>4.0</td>\n",
       "      <td>0</td>\n",
       "      <td>0</td>\n",
       "      <td>1</td>\n",
       "      <td>0</td>\n",
       "      <td>0</td>\n",
       "      <td>0</td>\n",
       "      <td>0</td>\n",
       "      <td>0</td>\n",
       "      <td>0</td>\n",
       "      <td>0</td>\n",
       "      <td>0</td>\n",
       "      <td>0</td>\n",
       "      <td>...</td>\n",
       "      <td>0</td>\n",
       "      <td>0</td>\n",
       "      <td>0</td>\n",
       "      <td>0</td>\n",
       "      <td>0</td>\n",
       "      <td>0</td>\n",
       "      <td>0</td>\n",
       "      <td>0</td>\n",
       "      <td>0</td>\n",
       "      <td>0</td>\n",
       "      <td>0</td>\n",
       "      <td>0</td>\n",
       "      <td>0</td>\n",
       "      <td>0</td>\n",
       "      <td>0</td>\n",
       "    </tr>\n",
       "    <tr>\n",
       "      <th>2</th>\n",
       "      <td>900.0</td>\n",
       "      <td>2.0</td>\n",
       "      <td>2.0</td>\n",
       "      <td>1</td>\n",
       "      <td>1</td>\n",
       "      <td>1</td>\n",
       "      <td>0</td>\n",
       "      <td>0</td>\n",
       "      <td>0</td>\n",
       "      <td>0</td>\n",
       "      <td>0</td>\n",
       "      <td>0</td>\n",
       "      <td>0</td>\n",
       "      <td>0</td>\n",
       "      <td>0</td>\n",
       "      <td>...</td>\n",
       "      <td>0</td>\n",
       "      <td>0</td>\n",
       "      <td>0</td>\n",
       "      <td>0</td>\n",
       "      <td>0</td>\n",
       "      <td>0</td>\n",
       "      <td>0</td>\n",
       "      <td>0</td>\n",
       "      <td>0</td>\n",
       "      <td>0</td>\n",
       "      <td>0</td>\n",
       "      <td>0</td>\n",
       "      <td>0</td>\n",
       "      <td>0</td>\n",
       "      <td>0</td>\n",
       "    </tr>\n",
       "  </tbody>\n",
       "</table>\n",
       "<p>3 rows × 123 columns</p>\n",
       "</div>"
      ],
      "text/plain": [
       "     area  Bedrooms  Bathrooms  neworold  type_of_building  Agripada  \\\n",
       "0  1400.0       2.0        2.0         1                 0         1   \n",
       "1  2000.0       4.0        4.0         0                 0         1   \n",
       "2   900.0       2.0        2.0         1                 1         1   \n",
       "\n",
       "   Ambernath  Andheri East  Andheri West  Bandra East  Bandra Kurla Complex  \\\n",
       "0          0             0             0            0                     0   \n",
       "1          0             0             0            0                     0   \n",
       "2          0             0             0            0                     0   \n",
       "\n",
       "   Bandra West  Bhakti Park  Bhandup  Bhandup West  ...  Versova  \\\n",
       "0            0            0        0             0  ...        0   \n",
       "1            0            0        0             0  ...        0   \n",
       "2            0            0        0             0  ...        0   \n",
       "\n",
       "   Vikhroli East  Vikhroli West  Vile Parle East  Vile Parle West  \\\n",
       "0              0              0                0                0   \n",
       "1              0              0                0                0   \n",
       "2              0              0                0                0   \n",
       "\n",
       "   Vinay Nagar  Virar  Virar East  Virar West  Wadala  Wadala East  \\\n",
       "0            0      0           0           0       0            0   \n",
       "1            0      0           0           0       0            0   \n",
       "2            0      0           0           0       0            0   \n",
       "\n",
       "   Wadala West  Walkeshwar  Worli  Yari Road  \n",
       "0            0           0      0          0  \n",
       "1            0           0      0          0  \n",
       "2            0           0      0          0  \n",
       "\n",
       "[3 rows x 123 columns]"
      ]
     },
     "execution_count": 139,
     "metadata": {},
     "output_type": "execute_result"
    }
   ],
   "source": [
    "X.head(3)"
   ]
  },
  {
   "cell_type": "code",
   "execution_count": 140,
   "id": "b0eacca7",
   "metadata": {},
   "outputs": [
    {
     "data": {
      "text/plain": [
       "(4823, 123)"
      ]
     },
     "execution_count": 140,
     "metadata": {},
     "output_type": "execute_result"
    }
   ],
   "source": [
    "#Checking shape of x.\n",
    "X.shape"
   ]
  },
  {
   "cell_type": "code",
   "execution_count": 141,
   "id": "633d8021",
   "metadata": {},
   "outputs": [
    {
     "data": {
      "text/html": [
       "<div>\n",
       "<style scoped>\n",
       "    .dataframe tbody tr th:only-of-type {\n",
       "        vertical-align: middle;\n",
       "    }\n",
       "\n",
       "    .dataframe tbody tr th {\n",
       "        vertical-align: top;\n",
       "    }\n",
       "\n",
       "    .dataframe thead th {\n",
       "        text-align: right;\n",
       "    }\n",
       "</style>\n",
       "<table border=\"1\" class=\"dataframe\">\n",
       "  <thead>\n",
       "    <tr style=\"text-align: right;\">\n",
       "      <th></th>\n",
       "      <th>price</th>\n",
       "    </tr>\n",
       "  </thead>\n",
       "  <tbody>\n",
       "    <tr>\n",
       "      <th>0</th>\n",
       "      <td>47500000.0</td>\n",
       "    </tr>\n",
       "    <tr>\n",
       "      <th>1</th>\n",
       "      <td>76500000.0</td>\n",
       "    </tr>\n",
       "    <tr>\n",
       "      <th>2</th>\n",
       "      <td>42500000.0</td>\n",
       "    </tr>\n",
       "  </tbody>\n",
       "</table>\n",
       "</div>"
      ],
      "text/plain": [
       "        price\n",
       "0  47500000.0\n",
       "1  76500000.0\n",
       "2  42500000.0"
      ]
     },
     "execution_count": 141,
     "metadata": {},
     "output_type": "execute_result"
    }
   ],
   "source": [
    "# y is our dependent variables. Dependent on location, total_sqft, BHK and bath.\n",
    "y = df6[['price']]\n",
    "y.head(3)"
   ]
  },
  {
   "cell_type": "code",
   "execution_count": 142,
   "id": "bdfbcf54",
   "metadata": {},
   "outputs": [
    {
     "data": {
      "text/plain": [
       "4823"
      ]
     },
     "execution_count": 142,
     "metadata": {},
     "output_type": "execute_result"
    }
   ],
   "source": [
    "# Checking length of y.\n",
    "len(y)"
   ]
  },
  {
   "cell_type": "markdown",
   "id": "e62709c4",
   "metadata": {},
   "source": [
    "# Training and testing model"
   ]
  },
  {
   "cell_type": "code",
   "execution_count": 143,
   "id": "78ff43e2",
   "metadata": {},
   "outputs": [],
   "source": [
    "# Splitting our dataset in training and testing dataset using sklearn's train_test_split method.\n",
    "from sklearn.model_selection import train_test_split\n",
    "X_train, X_test, y_train, y_test = train_test_split(X,y,test_size=0.2,random_state=20)"
   ]
  },
  {
   "cell_type": "code",
   "execution_count": 144,
   "id": "df219e9d",
   "metadata": {},
   "outputs": [
    {
     "data": {
      "text/plain": [
       "LinearRegression()"
      ]
     },
     "execution_count": 144,
     "metadata": {},
     "output_type": "execute_result"
    }
   ],
   "source": [
    "# Importing sklearn's Linear Regression model and fitting and training the model. Testing the same model and displaying the score.\n",
    "from sklearn.linear_model import LinearRegression\n",
    "from sklearn.metrics import mean_absolute_error\n",
    "lm = LinearRegression()\n",
    "lm.fit(X_train,y_train)"
   ]
  },
  {
   "cell_type": "markdown",
   "id": "0fbbfed8",
   "metadata": {},
   "source": [
    "## Predicting test data"
   ]
  },
  {
   "cell_type": "code",
   "execution_count": 145,
   "id": "a045c89d",
   "metadata": {},
   "outputs": [
    {
     "name": "stdout",
     "output_type": "stream",
     "text": [
      "Coefficients: \n",
      " [[ 2.32547602e+04  5.92778490e+05  6.44947188e+06 -6.21469122e+04\n",
      "  -1.72843845e+03  1.89377239e+07 -1.53108690e+07  4.50873757e+05\n",
      "   5.14036125e+06  4.19836031e+06  1.30791034e+07  3.29150150e+07\n",
      "  -2.99938583e+06 -6.02372228e+06 -5.17116779e+06 -1.08971570e+07\n",
      "  -1.23560194e+07 -1.65633591e+06 -1.08668184e+06  1.10735965e+07\n",
      "  -3.14008179e+06 -7.31774833e+06  1.73867078e+06  4.29350876e+05\n",
      "   4.82365676e+07  2.07432877e+06  1.56560300e+07  1.30792649e+07\n",
      "  -1.82966007e+06 -3.97549809e+06 -2.98936328e+06  2.10712690e+06\n",
      "  -7.25764298e+06 -1.02993109e+06  4.93802628e+06 -8.64340844e+05\n",
      "  -1.19060432e+06 -1.00044101e+07 -5.87086650e+06 -6.50306276e+05\n",
      "   1.08523985e+07 -6.23070194e+06  2.68425055e+07 -3.62363903e+06\n",
      "  -1.93304229e+06  4.71605649e+05  3.33689029e+07  1.96612663e+06\n",
      "  -1.38058558e+07 -3.79454640e+06 -3.01226688e+06 -1.62167364e+06\n",
      "  -1.08592947e+06  2.21185760e+07 -4.54113493e+06 -4.54803338e+06\n",
      "  -1.96195452e+06  6.26758223e+06 -7.21520897e+06  4.17608971e+07\n",
      "  -1.07768733e+06  8.29980967e+06  1.28452316e+07  7.10960167e+07\n",
      "  -2.63060977e+06 -1.84106702e+06 -1.05969030e+07 -1.63947022e+06\n",
      "   1.82878259e+07  1.10329372e+07  9.58150267e+06 -1.06107130e+07\n",
      "  -1.07814765e+07 -1.36821186e+07 -4.85011883e+06 -1.81719908e+06\n",
      "  -2.64986797e+06  5.47853692e+06 -1.16100166e+07 -1.26357975e+07\n",
      "  -1.15648824e+07 -1.41098855e+07  7.45856511e+07 -1.40841879e+07\n",
      "   5.29490513e+05  4.28127670e+07  1.20987671e+07  2.33958103e+06\n",
      "   2.13433608e+07  3.72429876e+06  1.68175705e+07 -6.60851399e+06\n",
      "   1.08828759e+07 -3.82350377e+06  6.71202642e+06  2.69744338e+06\n",
      "   2.12333546e+07 -2.75264707e+06 -2.95025187e+06 -1.39436853e+07\n",
      "  -1.24622038e+07 -3.03173637e+06 -2.55816750e+07  2.97771421e+06\n",
      "  -1.49863027e+07 -1.52645700e+07 -1.81621588e+07  2.19392498e+06\n",
      "   4.75453344e+06  5.17396744e+06 -1.47953983e+06  9.76951716e+06\n",
      "   1.48615790e+07 -1.21809430e+07 -1.31227994e+07 -1.35325530e+07\n",
      "  -1.35929463e+07  5.19917337e+06  4.29828283e+04  4.50779910e+06\n",
      "   5.88922823e+07  2.03823061e+07  3.41490636e+06]]\n"
     ]
    }
   ],
   "source": [
    "# The coefficients\n",
    "print('Coefficients: \\n', lm.coef_)"
   ]
  },
  {
   "cell_type": "code",
   "execution_count": 146,
   "id": "d10362cd",
   "metadata": {},
   "outputs": [],
   "source": [
    "predictions=lm.predict(X_test)"
   ]
  },
  {
   "cell_type": "code",
   "execution_count": 98,
   "id": "8cd9b4f7",
   "metadata": {},
   "outputs": [
    {
     "data": {
      "text/plain": [
       "Text(0, 0.5, 'Predicted Y')"
      ]
     },
     "execution_count": 98,
     "metadata": {},
     "output_type": "execute_result"
    },
    {
     "data": {
      "image/png": "[encoded data removed]",
      "text/plain": [
       "<Figure size 640x480 with 1 Axes>"
      ]
     },
     "metadata": {},
     "output_type": "display_data"
    }
   ],
   "source": [
    "plt.scatter(y_test,predictions)\n",
    "plt.xlabel('Y Test')\n",
    "plt.ylabel('Predicted Y')"
   ]
  },
  {
   "cell_type": "markdown",
   "id": "2a1654b3",
   "metadata": {},
   "source": [
    "## Evaluating the Model"
   ]
  },
  {
   "cell_type": "code",
   "execution_count": 147,
   "id": "ba03dbe2",
   "metadata": {},
   "outputs": [
    {
     "name": "stdout",
     "output_type": "stream",
     "text": [
      "MAE: 5533302.274692375\n",
      "MSE: 79203655262174.81\n",
      "RMSE: 8899643.54691663\n"
     ]
    }
   ],
   "source": [
    "# calculate these metrics by hand!\n",
    "from sklearn import metrics\n",
    "\n",
    "print('MAE:', metrics.mean_absolute_error(y_test, predictions))\n",
    "print('MSE:', metrics.mean_squared_error(y_test, predictions))\n",
    "print('RMSE:', np.sqrt(metrics.mean_squared_error(y_test, predictions)))"
   ]
  },
  {
   "cell_type": "code",
   "execution_count": 148,
   "id": "10a53f63",
   "metadata": {},
   "outputs": [
    {
     "name": "stdout",
     "output_type": "stream",
     "text": [
      "0.8309236601950932\n"
     ]
    }
   ],
   "source": [
    "from sklearn.metrics import r2_score \n",
    "r2=r2_score(y_test,predictions)\n",
    "print(r2)"
   ]
  },
  {
   "cell_type": "code",
   "execution_count": 149,
   "id": "6ddb1655",
   "metadata": {},
   "outputs": [
    {
     "name": "stdout",
     "output_type": "stream",
     "text": [
      "0.8264979547692572\n"
     ]
    }
   ],
   "source": [
    "#display adjusted R-squared\n",
    "adjusted_r2=1 - ((1-r2)*(len(y)-1)/(len(y)-X.shape[1]-1))\n",
    "print(adjusted_r2)"
   ]
  },
  {
   "cell_type": "code",
   "execution_count": 150,
   "id": "3965f57f",
   "metadata": {},
   "outputs": [
    {
     "name": "stderr",
     "output_type": "stream",
     "text": [
      "C:\\Users\\bijoy\\anaconda3\\lib\\site-packages\\seaborn\\distributions.py:2619: FutureWarning: `distplot` is a deprecated function and will be removed in a future version. Please adapt your code to use either `displot` (a figure-level function with similar flexibility) or `histplot` (an axes-level function for histograms).\n",
      "  warnings.warn(msg, FutureWarning)\n"
     ]
    },
    {
     "data": {
      "image/png": "[encoded data removed]",
      "text/plain": [
       "<Figure size 640x480 with 1 Axes>"
      ]
     },
     "metadata": {},
     "output_type": "display_data"
    }
   ],
   "source": [
    "sns.distplot((y_test-predictions),bins=50);"
   ]
  },
  {
   "cell_type": "code",
   "execution_count": 88,
   "id": "27acc4d9",
   "metadata": {},
   "outputs": [
    {
     "data": {
      "text/html": [
       "<div>\n",
       "<style scoped>\n",
       "    .dataframe tbody tr th:only-of-type {\n",
       "        vertical-align: middle;\n",
       "    }\n",
       "\n",
       "    .dataframe tbody tr th {\n",
       "        vertical-align: top;\n",
       "    }\n",
       "\n",
       "    .dataframe thead th {\n",
       "        text-align: right;\n",
       "    }\n",
       "</style>\n",
       "<table border=\"1\" class=\"dataframe\">\n",
       "  <thead>\n",
       "    <tr style=\"text-align: right;\">\n",
       "      <th></th>\n",
       "      <th>area</th>\n",
       "      <th>Bedrooms</th>\n",
       "      <th>Bathrooms</th>\n",
       "      <th>neworold</th>\n",
       "      <th>type_of_building</th>\n",
       "      <th>Price_sqft</th>\n",
       "      <th>Agripada</th>\n",
       "      <th>Ambernath</th>\n",
       "      <th>Andheri East</th>\n",
       "      <th>Andheri West</th>\n",
       "      <th>Bandra East</th>\n",
       "      <th>Bandra Kurla Complex</th>\n",
       "      <th>Bandra West</th>\n",
       "      <th>Bhakti Park</th>\n",
       "      <th>Bhandup</th>\n",
       "      <th>...</th>\n",
       "      <th>Versova</th>\n",
       "      <th>Vikhroli East</th>\n",
       "      <th>Vikhroli West</th>\n",
       "      <th>Vile Parle East</th>\n",
       "      <th>Vile Parle West</th>\n",
       "      <th>Vinay Nagar</th>\n",
       "      <th>Virar</th>\n",
       "      <th>Virar East</th>\n",
       "      <th>Virar West</th>\n",
       "      <th>Wadala</th>\n",
       "      <th>Wadala East</th>\n",
       "      <th>Wadala West</th>\n",
       "      <th>Walkeshwar</th>\n",
       "      <th>Worli</th>\n",
       "      <th>Yari Road</th>\n",
       "    </tr>\n",
       "  </thead>\n",
       "  <tbody>\n",
       "    <tr>\n",
       "      <th>5814</th>\n",
       "      <td>858.0</td>\n",
       "      <td>2.0</td>\n",
       "      <td>2.0</td>\n",
       "      <td>1</td>\n",
       "      <td>0</td>\n",
       "      <td>18648.018648</td>\n",
       "      <td>0</td>\n",
       "      <td>0</td>\n",
       "      <td>0</td>\n",
       "      <td>0</td>\n",
       "      <td>0</td>\n",
       "      <td>0</td>\n",
       "      <td>0</td>\n",
       "      <td>0</td>\n",
       "      <td>0</td>\n",
       "      <td>...</td>\n",
       "      <td>0</td>\n",
       "      <td>0</td>\n",
       "      <td>0</td>\n",
       "      <td>0</td>\n",
       "      <td>0</td>\n",
       "      <td>0</td>\n",
       "      <td>0</td>\n",
       "      <td>0</td>\n",
       "      <td>0</td>\n",
       "      <td>1</td>\n",
       "      <td>0</td>\n",
       "      <td>0</td>\n",
       "      <td>0</td>\n",
       "      <td>0</td>\n",
       "      <td>0</td>\n",
       "    </tr>\n",
       "    <tr>\n",
       "      <th>4947</th>\n",
       "      <td>1500.0</td>\n",
       "      <td>3.0</td>\n",
       "      <td>3.0</td>\n",
       "      <td>1</td>\n",
       "      <td>0</td>\n",
       "      <td>21333.333333</td>\n",
       "      <td>0</td>\n",
       "      <td>0</td>\n",
       "      <td>0</td>\n",
       "      <td>0</td>\n",
       "      <td>0</td>\n",
       "      <td>0</td>\n",
       "      <td>0</td>\n",
       "      <td>0</td>\n",
       "      <td>0</td>\n",
       "      <td>...</td>\n",
       "      <td>0</td>\n",
       "      <td>0</td>\n",
       "      <td>0</td>\n",
       "      <td>0</td>\n",
       "      <td>0</td>\n",
       "      <td>0</td>\n",
       "      <td>0</td>\n",
       "      <td>0</td>\n",
       "      <td>0</td>\n",
       "      <td>0</td>\n",
       "      <td>0</td>\n",
       "      <td>0</td>\n",
       "      <td>0</td>\n",
       "      <td>0</td>\n",
       "      <td>0</td>\n",
       "    </tr>\n",
       "    <tr>\n",
       "      <th>1454</th>\n",
       "      <td>1000.0</td>\n",
       "      <td>2.0</td>\n",
       "      <td>2.0</td>\n",
       "      <td>1</td>\n",
       "      <td>0</td>\n",
       "      <td>17500.000000</td>\n",
       "      <td>0</td>\n",
       "      <td>0</td>\n",
       "      <td>0</td>\n",
       "      <td>0</td>\n",
       "      <td>0</td>\n",
       "      <td>0</td>\n",
       "      <td>0</td>\n",
       "      <td>0</td>\n",
       "      <td>0</td>\n",
       "      <td>...</td>\n",
       "      <td>0</td>\n",
       "      <td>0</td>\n",
       "      <td>0</td>\n",
       "      <td>0</td>\n",
       "      <td>0</td>\n",
       "      <td>0</td>\n",
       "      <td>0</td>\n",
       "      <td>0</td>\n",
       "      <td>0</td>\n",
       "      <td>0</td>\n",
       "      <td>0</td>\n",
       "      <td>0</td>\n",
       "      <td>0</td>\n",
       "      <td>0</td>\n",
       "      <td>0</td>\n",
       "    </tr>\n",
       "    <tr>\n",
       "      <th>1835</th>\n",
       "      <td>820.0</td>\n",
       "      <td>2.0</td>\n",
       "      <td>2.0</td>\n",
       "      <td>1</td>\n",
       "      <td>0</td>\n",
       "      <td>22560.975610</td>\n",
       "      <td>0</td>\n",
       "      <td>0</td>\n",
       "      <td>0</td>\n",
       "      <td>0</td>\n",
       "      <td>0</td>\n",
       "      <td>0</td>\n",
       "      <td>0</td>\n",
       "      <td>0</td>\n",
       "      <td>0</td>\n",
       "      <td>...</td>\n",
       "      <td>0</td>\n",
       "      <td>0</td>\n",
       "      <td>0</td>\n",
       "      <td>0</td>\n",
       "      <td>0</td>\n",
       "      <td>0</td>\n",
       "      <td>0</td>\n",
       "      <td>0</td>\n",
       "      <td>0</td>\n",
       "      <td>0</td>\n",
       "      <td>0</td>\n",
       "      <td>0</td>\n",
       "      <td>0</td>\n",
       "      <td>0</td>\n",
       "      <td>0</td>\n",
       "    </tr>\n",
       "    <tr>\n",
       "      <th>1061</th>\n",
       "      <td>1000.0</td>\n",
       "      <td>3.0</td>\n",
       "      <td>3.0</td>\n",
       "      <td>0</td>\n",
       "      <td>0</td>\n",
       "      <td>20000.000000</td>\n",
       "      <td>0</td>\n",
       "      <td>0</td>\n",
       "      <td>0</td>\n",
       "      <td>0</td>\n",
       "      <td>0</td>\n",
       "      <td>0</td>\n",
       "      <td>0</td>\n",
       "      <td>0</td>\n",
       "      <td>0</td>\n",
       "      <td>...</td>\n",
       "      <td>0</td>\n",
       "      <td>0</td>\n",
       "      <td>0</td>\n",
       "      <td>0</td>\n",
       "      <td>0</td>\n",
       "      <td>0</td>\n",
       "      <td>0</td>\n",
       "      <td>0</td>\n",
       "      <td>0</td>\n",
       "      <td>0</td>\n",
       "      <td>0</td>\n",
       "      <td>0</td>\n",
       "      <td>0</td>\n",
       "      <td>0</td>\n",
       "      <td>0</td>\n",
       "    </tr>\n",
       "    <tr>\n",
       "      <th>...</th>\n",
       "      <td>...</td>\n",
       "      <td>...</td>\n",
       "      <td>...</td>\n",
       "      <td>...</td>\n",
       "      <td>...</td>\n",
       "      <td>...</td>\n",
       "      <td>...</td>\n",
       "      <td>...</td>\n",
       "      <td>...</td>\n",
       "      <td>...</td>\n",
       "      <td>...</td>\n",
       "      <td>...</td>\n",
       "      <td>...</td>\n",
       "      <td>...</td>\n",
       "      <td>...</td>\n",
       "      <td>...</td>\n",
       "      <td>...</td>\n",
       "      <td>...</td>\n",
       "      <td>...</td>\n",
       "      <td>...</td>\n",
       "      <td>...</td>\n",
       "      <td>...</td>\n",
       "      <td>...</td>\n",
       "      <td>...</td>\n",
       "      <td>...</td>\n",
       "      <td>...</td>\n",
       "      <td>...</td>\n",
       "      <td>...</td>\n",
       "      <td>...</td>\n",
       "      <td>...</td>\n",
       "      <td>...</td>\n",
       "    </tr>\n",
       "    <tr>\n",
       "      <th>1703</th>\n",
       "      <td>740.0</td>\n",
       "      <td>2.0</td>\n",
       "      <td>2.0</td>\n",
       "      <td>0</td>\n",
       "      <td>0</td>\n",
       "      <td>30405.405405</td>\n",
       "      <td>0</td>\n",
       "      <td>0</td>\n",
       "      <td>0</td>\n",
       "      <td>0</td>\n",
       "      <td>0</td>\n",
       "      <td>0</td>\n",
       "      <td>0</td>\n",
       "      <td>0</td>\n",
       "      <td>0</td>\n",
       "      <td>...</td>\n",
       "      <td>0</td>\n",
       "      <td>0</td>\n",
       "      <td>0</td>\n",
       "      <td>0</td>\n",
       "      <td>0</td>\n",
       "      <td>0</td>\n",
       "      <td>0</td>\n",
       "      <td>0</td>\n",
       "      <td>0</td>\n",
       "      <td>0</td>\n",
       "      <td>0</td>\n",
       "      <td>0</td>\n",
       "      <td>0</td>\n",
       "      <td>0</td>\n",
       "      <td>0</td>\n",
       "    </tr>\n",
       "    <tr>\n",
       "      <th>4163</th>\n",
       "      <td>1042.0</td>\n",
       "      <td>2.0</td>\n",
       "      <td>2.0</td>\n",
       "      <td>1</td>\n",
       "      <td>0</td>\n",
       "      <td>6525.911708</td>\n",
       "      <td>0</td>\n",
       "      <td>0</td>\n",
       "      <td>0</td>\n",
       "      <td>0</td>\n",
       "      <td>0</td>\n",
       "      <td>0</td>\n",
       "      <td>0</td>\n",
       "      <td>0</td>\n",
       "      <td>0</td>\n",
       "      <td>...</td>\n",
       "      <td>0</td>\n",
       "      <td>0</td>\n",
       "      <td>0</td>\n",
       "      <td>0</td>\n",
       "      <td>0</td>\n",
       "      <td>0</td>\n",
       "      <td>0</td>\n",
       "      <td>0</td>\n",
       "      <td>0</td>\n",
       "      <td>0</td>\n",
       "      <td>0</td>\n",
       "      <td>0</td>\n",
       "      <td>0</td>\n",
       "      <td>0</td>\n",
       "      <td>0</td>\n",
       "    </tr>\n",
       "    <tr>\n",
       "      <th>1515</th>\n",
       "      <td>1143.0</td>\n",
       "      <td>2.0</td>\n",
       "      <td>2.0</td>\n",
       "      <td>1</td>\n",
       "      <td>0</td>\n",
       "      <td>20559.930009</td>\n",
       "      <td>0</td>\n",
       "      <td>0</td>\n",
       "      <td>0</td>\n",
       "      <td>0</td>\n",
       "      <td>0</td>\n",
       "      <td>0</td>\n",
       "      <td>0</td>\n",
       "      <td>0</td>\n",
       "      <td>0</td>\n",
       "      <td>...</td>\n",
       "      <td>0</td>\n",
       "      <td>0</td>\n",
       "      <td>0</td>\n",
       "      <td>0</td>\n",
       "      <td>0</td>\n",
       "      <td>0</td>\n",
       "      <td>0</td>\n",
       "      <td>0</td>\n",
       "      <td>0</td>\n",
       "      <td>0</td>\n",
       "      <td>0</td>\n",
       "      <td>0</td>\n",
       "      <td>0</td>\n",
       "      <td>0</td>\n",
       "      <td>0</td>\n",
       "    </tr>\n",
       "    <tr>\n",
       "      <th>4633</th>\n",
       "      <td>1040.0</td>\n",
       "      <td>2.0</td>\n",
       "      <td>2.0</td>\n",
       "      <td>1</td>\n",
       "      <td>1</td>\n",
       "      <td>12980.769231</td>\n",
       "      <td>0</td>\n",
       "      <td>0</td>\n",
       "      <td>0</td>\n",
       "      <td>0</td>\n",
       "      <td>0</td>\n",
       "      <td>0</td>\n",
       "      <td>0</td>\n",
       "      <td>0</td>\n",
       "      <td>0</td>\n",
       "      <td>...</td>\n",
       "      <td>0</td>\n",
       "      <td>0</td>\n",
       "      <td>0</td>\n",
       "      <td>0</td>\n",
       "      <td>0</td>\n",
       "      <td>0</td>\n",
       "      <td>0</td>\n",
       "      <td>0</td>\n",
       "      <td>0</td>\n",
       "      <td>0</td>\n",
       "      <td>0</td>\n",
       "      <td>0</td>\n",
       "      <td>0</td>\n",
       "      <td>0</td>\n",
       "      <td>0</td>\n",
       "    </tr>\n",
       "    <tr>\n",
       "      <th>2690</th>\n",
       "      <td>2000.0</td>\n",
       "      <td>3.0</td>\n",
       "      <td>3.0</td>\n",
       "      <td>1</td>\n",
       "      <td>0</td>\n",
       "      <td>11250.000000</td>\n",
       "      <td>0</td>\n",
       "      <td>0</td>\n",
       "      <td>0</td>\n",
       "      <td>0</td>\n",
       "      <td>0</td>\n",
       "      <td>0</td>\n",
       "      <td>0</td>\n",
       "      <td>0</td>\n",
       "      <td>0</td>\n",
       "      <td>...</td>\n",
       "      <td>0</td>\n",
       "      <td>0</td>\n",
       "      <td>0</td>\n",
       "      <td>0</td>\n",
       "      <td>0</td>\n",
       "      <td>0</td>\n",
       "      <td>0</td>\n",
       "      <td>0</td>\n",
       "      <td>0</td>\n",
       "      <td>0</td>\n",
       "      <td>0</td>\n",
       "      <td>0</td>\n",
       "      <td>0</td>\n",
       "      <td>0</td>\n",
       "      <td>0</td>\n",
       "    </tr>\n",
       "  </tbody>\n",
       "</table>\n",
       "<p>4478 rows × 124 columns</p>\n",
       "</div>"
      ],
      "text/plain": [
       "        area  Bedrooms  Bathrooms  neworold  type_of_building    Price_sqft  \\\n",
       "5814   858.0       2.0        2.0         1                 0  18648.018648   \n",
       "4947  1500.0       3.0        3.0         1                 0  21333.333333   \n",
       "1454  1000.0       2.0        2.0         1                 0  17500.000000   \n",
       "1835   820.0       2.0        2.0         1                 0  22560.975610   \n",
       "1061  1000.0       3.0        3.0         0                 0  20000.000000   \n",
       "...      ...       ...        ...       ...               ...           ...   \n",
       "1703   740.0       2.0        2.0         0                 0  30405.405405   \n",
       "4163  1042.0       2.0        2.0         1                 0   6525.911708   \n",
       "1515  1143.0       2.0        2.0         1                 0  20559.930009   \n",
       "4633  1040.0       2.0        2.0         1                 1  12980.769231   \n",
       "2690  2000.0       3.0        3.0         1                 0  11250.000000   \n",
       "\n",
       "      Agripada  Ambernath  Andheri East  Andheri West  Bandra East  \\\n",
       "5814         0          0             0             0            0   \n",
       "4947         0          0             0             0            0   \n",
       "1454         0          0             0             0            0   \n",
       "1835         0          0             0             0            0   \n",
       "1061         0          0             0             0            0   \n",
       "...        ...        ...           ...           ...          ...   \n",
       "1703         0          0             0             0            0   \n",
       "4163         0          0             0             0            0   \n",
       "1515         0          0             0             0            0   \n",
       "4633         0          0             0             0            0   \n",
       "2690         0          0             0             0            0   \n",
       "\n",
       "      Bandra Kurla Complex  Bandra West  Bhakti Park  Bhandup  ...  Versova  \\\n",
       "5814                     0            0            0        0  ...        0   \n",
       "4947                     0            0            0        0  ...        0   \n",
       "1454                     0            0            0        0  ...        0   \n",
       "1835                     0            0            0        0  ...        0   \n",
       "1061                     0            0            0        0  ...        0   \n",
       "...                    ...          ...          ...      ...  ...      ...   \n",
       "1703                     0            0            0        0  ...        0   \n",
       "4163                     0            0            0        0  ...        0   \n",
       "1515                     0            0            0        0  ...        0   \n",
       "4633                     0            0            0        0  ...        0   \n",
       "2690                     0            0            0        0  ...        0   \n",
       "\n",
       "      Vikhroli East  Vikhroli West  Vile Parle East  Vile Parle West  \\\n",
       "5814              0              0                0                0   \n",
       "4947              0              0                0                0   \n",
       "1454              0              0                0                0   \n",
       "1835              0              0                0                0   \n",
       "1061              0              0                0                0   \n",
       "...             ...            ...              ...              ...   \n",
       "1703              0              0                0                0   \n",
       "4163              0              0                0                0   \n",
       "1515              0              0                0                0   \n",
       "4633              0              0                0                0   \n",
       "2690              0              0                0                0   \n",
       "\n",
       "      Vinay Nagar  Virar  Virar East  Virar West  Wadala  Wadala East  \\\n",
       "5814            0      0           0           0       1            0   \n",
       "4947            0      0           0           0       0            0   \n",
       "1454            0      0           0           0       0            0   \n",
       "1835            0      0           0           0       0            0   \n",
       "1061            0      0           0           0       0            0   \n",
       "...           ...    ...         ...         ...     ...          ...   \n",
       "1703            0      0           0           0       0            0   \n",
       "4163            0      0           0           0       0            0   \n",
       "1515            0      0           0           0       0            0   \n",
       "4633            0      0           0           0       0            0   \n",
       "2690            0      0           0           0       0            0   \n",
       "\n",
       "      Wadala West  Walkeshwar  Worli  Yari Road  \n",
       "5814            0           0      0          0  \n",
       "4947            0           0      0          0  \n",
       "1454            0           0      0          0  \n",
       "1835            0           0      0          0  \n",
       "1061            0           0      0          0  \n",
       "...           ...         ...    ...        ...  \n",
       "1703            0           0      0          0  \n",
       "4163            0           0      0          0  \n",
       "1515            0           0      0          0  \n",
       "4633            0           0      0          0  \n",
       "2690            0           0      0          0  \n",
       "\n",
       "[4478 rows x 124 columns]"
      ]
     },
     "execution_count": 88,
     "metadata": {},
     "output_type": "execute_result"
    }
   ],
   "source": [
    "X_train"
   ]
  },
  {
   "cell_type": "markdown",
   "id": "c854e48e",
   "metadata": {},
   "source": [
    "## Define a price prediction function."
   ]
  },
  {
   "cell_type": "code",
   "execution_count": 151,
   "id": "bb5a810b",
   "metadata": {},
   "outputs": [],
   "source": [
    "# Predict price function that predicts flat price based on Address, sqft, bathrooms and bedrooms using our model's prediction.\n",
    "def predict_price(Address,area,Bathrooms,Bedrooms):    \n",
    "    loc_index = np.where(X.columns==Address)[0][0]\n",
    "    x = np.zeros(len(X.columns))\n",
    "    x[0] = area\n",
    "    x[1] = Bedrooms\n",
    "    x[2] = Bathrooms\n",
    "    if loc_index >= 0:\n",
    "        x[loc_index] = 1\n",
    "    \n",
    "    return lm.predict([x])[0][0]"
   ]
  },
  {
   "cell_type": "markdown",
   "id": "f8db3416",
   "metadata": {},
   "source": [
    "# Predicting some flat values - based on location, sqft, BHK and Bathrooms. "
   ]
  },
  {
   "cell_type": "code",
   "execution_count": 152,
   "id": "4102d148",
   "metadata": {},
   "outputs": [
    {
     "name": "stdout",
     "output_type": "stream",
     "text": [
      "13598972.876733623 Rs\n"
     ]
    },
    {
     "name": "stderr",
     "output_type": "stream",
     "text": [
      "C:\\Users\\bijoy\\anaconda3\\lib\\site-packages\\sklearn\\base.py:450: UserWarning: X does not have valid feature names, but LinearRegression was fitted with feature names\n",
      "  warnings.warn(\n"
     ]
    }
   ],
   "source": [
    "print(predict_price('Chembur',629, 2, 2),'Rs')"
   ]
  },
  {
   "cell_type": "code",
   "execution_count": 153,
   "id": "78d72406",
   "metadata": {},
   "outputs": [
    {
     "name": "stdout",
     "output_type": "stream",
     "text": [
      "18613216.0 Rs\n"
     ]
    },
    {
     "name": "stderr",
     "output_type": "stream",
     "text": [
      "C:\\Users\\bijoy\\anaconda3\\lib\\site-packages\\sklearn\\base.py:450: UserWarning: X does not have valid feature names, but LinearRegression was fitted with feature names\n",
      "  warnings.warn(\n"
     ]
    }
   ],
   "source": [
    "print(round(predict_price('Andheri East',900, 2, 2),0),'Rs')"
   ]
  },
  {
   "cell_type": "code",
   "execution_count": 154,
   "id": "bcdb7b76",
   "metadata": {},
   "outputs": [
    {
     "name": "stdout",
     "output_type": "stream",
     "text": [
      "25628179.0 Rs\n"
     ]
    },
    {
     "name": "stderr",
     "output_type": "stream",
     "text": [
      "C:\\Users\\bijoy\\anaconda3\\lib\\site-packages\\sklearn\\base.py:450: UserWarning: X does not have valid feature names, but LinearRegression was fitted with feature names\n",
      "  warnings.warn(\n"
     ]
    }
   ],
   "source": [
    "print(round(predict_price('Andheri West',1000, 2, 2),0),'Rs')"
   ]
  },
  {
   "cell_type": "code",
   "execution_count": null,
   "id": "c9e7e988",
   "metadata": {},
   "outputs": [],
   "source": []
  }
 ],
 "metadata": {
  "kernelspec": {
   "display_name": "Python 3 (ipykernel)",
   "language": "python",
   "name": "python3"
  },
  "language_info": {
   "codemirror_mode": {
    "name": "ipython",
    "version": 3
   },
   "file_extension": ".py",
   "mimetype": "text/x-python",
   "name": "python",
   "nbconvert_exporter": "python",
   "pygments_lexer": "ipython3",
   "version": "3.9.13"
  }
 },
 "nbformat": 4,
 "nbformat_minor": 5
}
